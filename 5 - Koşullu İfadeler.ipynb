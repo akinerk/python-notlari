{
  "nbformat": 4,
  "nbformat_minor": 0,
  "metadata": {
    "colab": {
      "provenance": [],
      "authorship_tag": "ABX9TyOEu4/RWYOEx16rr5+oVsbc",
      "include_colab_link": true
    },
    "kernelspec": {
      "name": "python3",
      "display_name": "Python 3"
    },
    "language_info": {
      "name": "python"
    }
  },
  "cells": [
    {
      "cell_type": "markdown",
      "metadata": {
        "id": "view-in-github",
        "colab_type": "text"
      },
      "source": [
        "<a href=\"https://colab.research.google.com/github/akinerk/python-notlari/blob/main/5_Ko%C5%9Fullu_%C4%B0fadeler.ipynb\" target=\"_parent\"><img src=\"https://colab.research.google.com/assets/colab-badge.svg\" alt=\"Open In Colab\"/></a>"
      ]
    },
    {
      "cell_type": "markdown",
      "source": [
        "Python'da bir koşul gerçekleştiğinde bir işlem yapmak istiyorsak if ifadesini kullanırız. Örnek vermek gerekirse:\n"
      ],
      "metadata": {
        "id": "hM3USkbtOmRD"
      }
    },
    {
      "cell_type": "code",
      "execution_count": 1,
      "metadata": {
        "colab": {
          "base_uri": "https://localhost:8080/"
        },
        "id": "TdTAz11dOiR7",
        "outputId": "be1f9627-2091-4132-e88f-4c70000e6a26"
      },
      "outputs": [
        {
          "output_type": "stream",
          "name": "stdout",
          "text": [
            "Hoşgeldin Akıner\n"
          ]
        }
      ],
      "source": [
        "isim = \"Akıner\"  # Öncelikli koşulu sağlayacak değeri belirtelim\n",
        "if isim == \"Akıner\":  # \"eğer isim Akıner ise\"\n",
        "  print(\"Hoşgeldin\", isim)  # \"Hoşgeldin de ve ismi yaz\"\n",
        "else:  # \"eğer değilse ve herhangi başka bir değer ise\"\n",
        "  print(\"Akıner değilsen giremezsin.\")  # \"Akıner değilsen giremezsin yaz\""
      ]
    },
    {
      "cell_type": "markdown",
      "source": [
        "Burada isim Akıner ise hoşgeldin yazarken isim değişkeni herhangi farklı bir değer ise Akıner değilsen giremezsin çıktısı veriyor.\n"
      ],
      "metadata": {
        "id": "DZLFrCSDOt0b"
      }
    },
    {
      "cell_type": "markdown",
      "source": [
        "Daha pratik bir örnekten gidersek"
      ],
      "metadata": {
        "id": "-EjIVTLeOvaK"
      }
    },
    {
      "cell_type": "code",
      "source": [
        "sinif = int(input(\"Kaçıncı sınıfta olduğunuzu giriniz: \"))  # Bir sayıya ihtiyacımız olduğu için input'u integer alıyoruz.\n",
        "if sinif == 1:\n",
        "  print(\"Birinci sınıf dersleriniz şunlardır: ----\")\n",
        "elif sinif == 2:\n",
        "  print(\"İkinci sınıf dersleriniz şunlardır: ------\")\n",
        "elif sinif == 3:\n",
        "  print(\"Üçüncü sınıf dersleriniz şunlardır: -----\")\n",
        "elif sinif == 4:\n",
        "  print(\"Dördüncü sınıf dersleriniz şunlardır: -----\")\n",
        "else:\n",
        "  print(\"Sadece 4 sınıf seviyesi için dersler bulunmaktadır.\")"
      ],
      "metadata": {
        "colab": {
          "base_uri": "https://localhost:8080/"
        },
        "id": "dNhMMt1BOw0y",
        "outputId": "0d453a5e-e55d-4d4e-991d-1d876e6d8153"
      },
      "execution_count": 3,
      "outputs": [
        {
          "output_type": "stream",
          "name": "stdout",
          "text": [
            "Kaçıncı sınıfta olduğunuzu giriniz: 1\n",
            "Birinci sınıf dersleriniz şunlardır: ----\n"
          ]
        }
      ]
    },
    {
      "cell_type": "markdown",
      "source": [
        "Bu örnekte kullandığımız \"elif\" ifadesinin anlamı \"else if\" yani \"aksi takdirde\" demektir. Yani if'in devamı mantığında kullanılmaktadır.\n"
      ],
      "metadata": {
        "id": "9VWC_mSqO0hC"
      }
    },
    {
      "cell_type": "markdown",
      "source": [
        "Bir de yaygın bir örnekle aynı anda iki değer kontrol etmeye bakalım"
      ],
      "metadata": {
        "id": "OeK7T5tCO5dC"
      }
    },
    {
      "cell_type": "code",
      "source": [
        "kullaniciadi = input(\"Kullanıcı adınızı giriniz: \")\n",
        "sifre = input(\"Şifrenizi giriniz: \")\n",
        "if kullaniciadi == \"akiner\" and sifre == \"akiner123\":  # and'i aynı anda iki değeri kontrol etmek için kullanıyoruz.\n",
        "  print(\"Sisteme hoşgeldin\", kullaniciadi)\n",
        "else:\n",
        "  print(\"Hatalı kullanıcı adı veya şifre\")"
      ],
      "metadata": {
        "colab": {
          "base_uri": "https://localhost:8080/"
        },
        "id": "ZiDcWMJEO6zy",
        "outputId": "ef0f33f8-ccab-4a42-f517-1ae04d3fa1b6"
      },
      "execution_count": 4,
      "outputs": [
        {
          "output_type": "stream",
          "name": "stdout",
          "text": [
            "Kullanıcı adınızı giriniz: akiner\n",
            "Şifrenizi giriniz: akiner123\n",
            "Sisteme hoşgeldin akiner\n"
          ]
        }
      ]
    },
    {
      "cell_type": "markdown",
      "source": [
        "Bu örnekte sisteme girebilmek için hem kullanıcı adımız hem şifremizin doğru olması gerekir. Aksi olan her durumda sistem hata verecektir."
      ],
      "metadata": {
        "id": "JiX0rf82PB3L"
      }
    }
  ]
}
