{
  "nbformat": 4,
  "nbformat_minor": 0,
  "metadata": {
    "colab": {
      "provenance": [],
      "authorship_tag": "ABX9TyOPl+bjO5d/D3u8TKtyjdDB",
      "include_colab_link": true
    },
    "kernelspec": {
      "name": "python3",
      "display_name": "Python 3"
    },
    "language_info": {
      "name": "python"
    }
  },
  "cells": [
    {
      "cell_type": "markdown",
      "metadata": {
        "id": "view-in-github",
        "colab_type": "text"
      },
      "source": [
        "<a href=\"https://colab.research.google.com/github/akinerk/python-notlari/blob/main/2_Print_Fonksiyonu.ipynb\" target=\"_parent\"><img src=\"https://colab.research.google.com/assets/colab-badge.svg\" alt=\"Open In Colab\"/></a>"
      ]
    },
    {
      "cell_type": "markdown",
      "source": [
        "print üç farklı şekilde kullanılabilir"
      ],
      "metadata": {
        "id": "rOxvi6OOeeCp"
      }
    },
    {
      "cell_type": "code",
      "source": [
        "print(\"Akıner\")\n",
        "print('Akıner')\n",
        "print(\"\"\"Akıner\"\"\")\n"
      ],
      "metadata": {
        "colab": {
          "base_uri": "https://localhost:8080/"
        },
        "id": "DQ2rfRUYefyS",
        "outputId": "a4d64403-535c-41da-ee5c-7e1082a1bf48"
      },
      "execution_count": 2,
      "outputs": [
        {
          "output_type": "stream",
          "name": "stdout",
          "text": [
            "Akıner\n",
            "Akıner\n",
            "Akıner\n"
          ]
        }
      ]
    },
    {
      "cell_type": "markdown",
      "source": [
        "Tek tırnak genelde çıktı içerisinde çift tırnak kullanılması gerektiğinde kullanılır"
      ],
      "metadata": {
        "id": "T5wgvRyqeix4"
      }
    },
    {
      "cell_type": "code",
      "source": [
        "print('Sen bugün \"Akıneri\" gördün mü?')  # Bu tarz ifadeler tek tırnakla yazılır.\n"
      ],
      "metadata": {
        "colab": {
          "base_uri": "https://localhost:8080/"
        },
        "id": "Yyln21jmeoeY",
        "outputId": "6528c502-513e-4f3d-bbbe-2c81a785fa9d"
      },
      "execution_count": 3,
      "outputs": [
        {
          "output_type": "stream",
          "name": "stdout",
          "text": [
            "Sen bugün \"Akıneri\" gördün mü?\n"
          ]
        }
      ]
    },
    {
      "cell_type": "markdown",
      "source": [
        "Üç çift tırnak geniş yazı alanlarına ihtiyaç duyulduğunda kullanılır."
      ],
      "metadata": {
        "id": "QHgfSuYyerFI"
      }
    },
    {
      "cell_type": "code",
      "source": [
        "print(\"\"\"\n",
        "Öğrenciler\n",
        "1 - Akıner\n",
        "2 - Ahmet\n",
        "3 - Mehmet\n",
        "\"\"\")  # Şeklinde kullanılır."
      ],
      "metadata": {
        "colab": {
          "base_uri": "https://localhost:8080/"
        },
        "id": "eR16ODOHesmA",
        "outputId": "c9cca894-df67-4598-a932-ad2a546ba38d"
      },
      "execution_count": 9,
      "outputs": [
        {
          "output_type": "stream",
          "name": "stdout",
          "text": [
            "\n",
            "Öğrenciler\n",
            "1 - Akıner      \n",
            "2 - Ahmet\n",
            "3 - Mehmet\n",
            "\n"
          ]
        }
      ]
    },
    {
      "cell_type": "markdown",
      "source": [
        "Eğer biz üç çift tırnak kullanmadan tek satırda yazdığımız şeylerin alt alta sıralanmasını istiyorsak \"\\n\" ifadesini kullanırız.\n"
      ],
      "metadata": {
        "id": "MRc1C___evKA"
      }
    },
    {
      "cell_type": "code",
      "source": [
        "print(\"Öğrenciler\\n1 - Akıner\\n2 - Ahmet\\n3 - Mehmet\")\n"
      ],
      "metadata": {
        "colab": {
          "base_uri": "https://localhost:8080/"
        },
        "id": "yzo-CXUjeyNo",
        "outputId": "696d62bf-b404-48a0-abc2-fd40a6541785"
      },
      "execution_count": 10,
      "outputs": [
        {
          "output_type": "stream",
          "name": "stdout",
          "text": [
            "Öğrenciler\n",
            "1 - Akıner\n",
            "2 - Ahmet\n",
            "3 - Mehmet\n"
          ]
        }
      ]
    },
    {
      "cell_type": "markdown",
      "source": [
        "Eğer stringlerin arasında farklı ifadeler kullanmak istiyorsak virgül kullanabiliriz"
      ],
      "metadata": {
        "id": "euIzkbf4e2Fo"
      }
    },
    {
      "cell_type": "code",
      "source": [
        "print(\"Akıner\", 1337, \"nerede\")\n"
      ],
      "metadata": {
        "colab": {
          "base_uri": "https://localhost:8080/"
        },
        "id": "E4FZv0c8e3Xw",
        "outputId": "28a4843f-a0c4-48cf-f579-80cafa780297"
      },
      "execution_count": 6,
      "outputs": [
        {
          "output_type": "stream",
          "name": "stdout",
          "text": [
            "Akıner 1337 nerede\n"
          ]
        }
      ]
    },
    {
      "cell_type": "markdown",
      "source": [
        "\"\\n\" gibi ifadeleri tek tek yazmak istemiyorsak sep= parametresini kullanabiliriz."
      ],
      "metadata": {
        "id": "8bklMdHCe5hK"
      }
    },
    {
      "cell_type": "code",
      "source": [
        "print(\"Akıner\", \"Ahmet\", \"Mehmet\", sep=\"\\n\")\n"
      ],
      "metadata": {
        "colab": {
          "base_uri": "https://localhost:8080/"
        },
        "id": "eSdkP3uYe6PR",
        "outputId": "9b851353-8440-47e8-a748-1de96446697e"
      },
      "execution_count": 11,
      "outputs": [
        {
          "output_type": "stream",
          "name": "stdout",
          "text": [
            "Akıner\n",
            "Ahmet\n",
            "Mehmet\n"
          ]
        }
      ]
    },
    {
      "cell_type": "markdown",
      "source": [
        "<p>sep parametresine tanımlanan herhangi bir değer, fonksiyonun solunda kalan değerlerin arasına yerleştirilir.</p>\n",
        "<p>Bu şekilde tek tek aralarına yazmaya gerek kalmadan otomatik istediğimiz stringi koyabiliriz.</p>\n",
        "<p>Sep parametresine verdiğimiz değerler eğer stringse yine çift tırnak içinde yazılmalıdır.</p>"
      ],
      "metadata": {
        "id": "XhzqlhMCe7hQ"
      }
    },
    {
      "cell_type": "code",
      "source": [
        "print(\"Akıner\", \"Ahmet\", \"Mehmet\", sep=None)\n"
      ],
      "metadata": {
        "colab": {
          "base_uri": "https://localhost:8080/"
        },
        "id": "ECwWOmeLfAHw",
        "outputId": "a3e69d42-7f5e-49b4-ef61-1f05555cda8d"
      },
      "execution_count": 12,
      "outputs": [
        {
          "output_type": "stream",
          "name": "stdout",
          "text": [
            "Akıner Ahmet Mehmet\n"
          ]
        }
      ]
    },
    {
      "cell_type": "markdown",
      "source": [
        "Eğer None değeri verirse, sep parametresi herhangi bir şey yapmayacaktır. None değeri verildiğinde, None büyük harfle başlamalıdır."
      ],
      "metadata": {
        "id": "LfOh8gWFfZ2Z"
      }
    }
  ]
}
