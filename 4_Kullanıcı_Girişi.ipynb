{
  "nbformat": 4,
  "nbformat_minor": 0,
  "metadata": {
    "colab": {
      "provenance": [],
      "authorship_tag": "ABX9TyP+M28LbR3Cb1z8DIw9M+NI",
      "include_colab_link": true
    },
    "kernelspec": {
      "name": "python3",
      "display_name": "Python 3"
    },
    "language_info": {
      "name": "python"
    }
  },
  "cells": [
    {
      "cell_type": "markdown",
      "metadata": {
        "id": "view-in-github",
        "colab_type": "text"
      },
      "source": [
        "<a href=\"https://colab.research.google.com/github/akinerk/python-notlari/blob/main/4_Kullan%C4%B1c%C4%B1_Giri%C5%9Fi.ipynb\" target=\"_parent\"><img src=\"https://colab.research.google.com/assets/colab-badge.svg\" alt=\"Open In Colab\"/></a>"
      ]
    },
    {
      "cell_type": "markdown",
      "source": [
        "Python'da kullanıcıdan giriş almak için input fonksiyonu kullanılır."
      ],
      "metadata": {
        "id": "lC-GsYLYNus6"
      }
    },
    {
      "cell_type": "code",
      "source": [
        "input(\"İsminizi giriniz: \")  # Bu ifade ile kullanıcıdan isim girişi alabiliriz.\n"
      ],
      "metadata": {
        "colab": {
          "base_uri": "https://localhost:8080/",
          "height": 54
        },
        "id": "SYfuNrMyNxxz",
        "outputId": "2ec23d7b-65a1-4122-9ef2-5e037b1e9bfb"
      },
      "execution_count": 2,
      "outputs": [
        {
          "name": "stdout",
          "output_type": "stream",
          "text": [
            "İsminizi giriniz: Akıner\n"
          ]
        },
        {
          "output_type": "execute_result",
          "data": {
            "text/plain": [
              "'Akıner'"
            ],
            "application/vnd.google.colaboratory.intrinsic+json": {
              "type": "string"
            }
          },
          "metadata": {},
          "execution_count": 2
        }
      ]
    },
    {
      "cell_type": "markdown",
      "source": [
        "Ancak aldığımız değeri kullanmak için input'u bir değişkene atamamız gerekmektedir."
      ],
      "metadata": {
        "id": "TLPSCvsGNzYC"
      }
    },
    {
      "cell_type": "code",
      "source": [
        "isim = input(\"İsminizi giriniz: \")  # Bu şekilde bir kullanım yaparsak kullanıcının girdiği isim değeri isim değişkenine atanmaktadır.\n",
        "print(\"Merhaba\", isim)  # Şeklinde ise kullanıcının girdiği değeri çıktı alabiliriz."
      ],
      "metadata": {
        "colab": {
          "base_uri": "https://localhost:8080/"
        },
        "id": "SMU0KTLPN5aC",
        "outputId": "91e9dc6a-3312-4148-b8ef-c7cb7190c9a3"
      },
      "execution_count": 3,
      "outputs": [
        {
          "output_type": "stream",
          "name": "stdout",
          "text": [
            "İsminizi giriniz: Akıner\n",
            "Merhaba Akıner\n"
          ]
        }
      ]
    },
    {
      "cell_type": "markdown",
      "source": [
        "Input fonksiyonu varsayılan olarak string değerleri işleme almaktadır. Örnek verecek olursak:"
      ],
      "metadata": {
        "id": "mLzfZ0vAN87K"
      }
    },
    {
      "cell_type": "code",
      "source": [
        "birincisayi = input(\"Birinci sayıyı giriniz: \")  # Buraya eğer 1 yazarsak\n",
        "ikincisayi = input(\"İkinci sayıyı giriniz: \")  # Buraya ise 2 yazarsak\n",
        "print(birincisayi + ikincisayi)  # Bu çıktının cevabı 12 olacaktır."
      ],
      "metadata": {
        "colab": {
          "base_uri": "https://localhost:8080/"
        },
        "id": "ItrjDTyvN-mB",
        "outputId": "94927c3c-9ebf-4c7d-b743-d5fe785958f9"
      },
      "execution_count": 4,
      "outputs": [
        {
          "output_type": "stream",
          "name": "stdout",
          "text": [
            "Birinci sayıyı giriniz: 1\n",
            "İkinci sayıyı giriniz: 2\n",
            "12\n"
          ]
        }
      ]
    },
    {
      "cell_type": "markdown",
      "source": [
        "Bunun sebebi belirttiğimiz gibi input değerinin varsayılan olarak string değerleri işleme almasıdır. Yani iki string'i toplamak yerine birleştirecektir.\n"
      ],
      "metadata": {
        "id": "qk_kRComOB4S"
      }
    },
    {
      "cell_type": "markdown",
      "source": [
        "Şu şekilde bir kullanım ile:"
      ],
      "metadata": {
        "id": "RUWXUZ8jODmC"
      }
    },
    {
      "cell_type": "code",
      "source": [
        "birincisayi = int(input(\"Birinci sayıyı giriniz: \"))  # Buraya eğer 1 yazarsak\n",
        "ikincisayi = int(input(\"İkinci sayıyı giriniz: \"))  # Buraya ise 2 yazarsak\n",
        "print(birincisayi + ikincisayi)  # Bu çıktının cevabı 3 olacaktır."
      ],
      "metadata": {
        "colab": {
          "base_uri": "https://localhost:8080/"
        },
        "id": "K3GFmWrROFDT",
        "outputId": "5b25b2fd-b4d8-4166-d1dc-e8f4c303dd25"
      },
      "execution_count": 5,
      "outputs": [
        {
          "output_type": "stream",
          "name": "stdout",
          "text": [
            "Birinci sayıyı giriniz: 1\n",
            "İkinci sayıyı giriniz: 2\n",
            "3\n"
          ]
        }
      ]
    },
    {
      "cell_type": "markdown",
      "source": [
        "Asıl istediğimiz yanıtı alabiliriz. Eğer input değerlerinde string'den farklı bir değerle işlem yapmak istiyorsak bunu input'un başında belirtmeliyiz."
      ],
      "metadata": {
        "id": "6FeUyxL9OIjy"
      }
    }
  ]
}