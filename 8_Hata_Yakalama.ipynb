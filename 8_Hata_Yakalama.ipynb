{
  "nbformat": 4,
  "nbformat_minor": 0,
  "metadata": {
    "colab": {
      "provenance": [],
      "authorship_tag": "ABX9TyOakMwIEwicyBmmV5pbF3ZU",
      "include_colab_link": true
    },
    "kernelspec": {
      "name": "python3",
      "display_name": "Python 3"
    },
    "language_info": {
      "name": "python"
    }
  },
  "cells": [
    {
      "cell_type": "markdown",
      "metadata": {
        "id": "view-in-github",
        "colab_type": "text"
      },
      "source": [
        "<a href=\"https://colab.research.google.com/github/akinerk/python-notlari/blob/main/8_Hata_Yakalama.ipynb\" target=\"_parent\"><img src=\"https://colab.research.google.com/assets/colab-badge.svg\" alt=\"Open In Colab\"/></a>"
      ]
    },
    {
      "cell_type": "markdown",
      "source": [
        "<p>Pythonda bazı yazdığımız kodlar çeşitli hatalara sebebiyet verebilir. Bu hatalar genellikle programın durmasına sebep olur.</p>\n",
        "<p>Pythonda biz bu hataları takip edip programın hatadan sonra devam etmesini istiyorsak veya hata mesajını anlaşılır yapmak istiyorsak hata yakalama fonksiyonlarını kullanırız.</p>\n",
        "<p>Örnek olarak:</p>"
      ],
      "metadata": {
        "id": "g5BSFJMmRwtz"
      }
    },
    {
      "cell_type": "code",
      "execution_count": 1,
      "metadata": {
        "colab": {
          "base_uri": "https://localhost:8080/",
          "height": 164
        },
        "id": "iq6LtkMqRk1E",
        "outputId": "6f96a245-957c-45fd-b08f-c9a00bd5124b"
      },
      "outputs": [
        {
          "output_type": "error",
          "ename": "NameError",
          "evalue": "name 'akiner' is not defined",
          "traceback": [
            "\u001b[0;31m---------------------------------------------------------------------------\u001b[0m",
            "\u001b[0;31mNameError\u001b[0m                                 Traceback (most recent call last)",
            "\u001b[0;32m<ipython-input-1-c4c3912a91fb>\u001b[0m in \u001b[0;36m<cell line: 1>\u001b[0;34m()\u001b[0m\n\u001b[0;32m----> 1\u001b[0;31m \u001b[0mprint\u001b[0m\u001b[0;34m(\u001b[0m\u001b[0makiner\u001b[0m\u001b[0;34m)\u001b[0m \u001b[0;31m# Bu kod çalıştırıldığında hata verecektir. Çünkü akiner diye bir değişken tanımlamadığımız için python bu değişkeni bulamayacaktır.\u001b[0m\u001b[0;34m\u001b[0m\u001b[0;34m\u001b[0m\u001b[0m\n\u001b[0m\u001b[1;32m      2\u001b[0m \u001b[0;31m# Bu kodu çalıştırdığımızda şu hata mesajını alırız:\u001b[0m\u001b[0;34m\u001b[0m\u001b[0;34m\u001b[0m\u001b[0m\n",
            "\u001b[0;31mNameError\u001b[0m: name 'akiner' is not defined"
          ]
        }
      ],
      "source": [
        "print(akiner) # Bu kod çalıştırıldığında hata verecektir. Çünkü akiner diye bir değişken tanımlamadığımız için python bu değişkeni bulamayacaktır.\n",
        "# Bu kodu çalıştırdığımızda şu hata mesajını alırız:"
      ]
    },
    {
      "cell_type": "markdown",
      "source": [
        "Burada python bize akiner isminin tanımlı olmadığından bahsetmiş ve NameError vermiştir. Ve program çalıştığı gibi kapanmıştır."
      ],
      "metadata": {
        "id": "T9aptUbFSKZS"
      }
    },
    {
      "cell_type": "markdown",
      "source": [
        "Eğer biz bu kodu şu şekilde çalıştırsaydık:"
      ],
      "metadata": {
        "id": "9io7DggkSMi5"
      }
    },
    {
      "cell_type": "code",
      "source": [
        "try:\n",
        "    print(akiner)\n",
        "except NameError:\n",
        "    print(\"Girilen isim bulunamadı.\")"
      ],
      "metadata": {
        "colab": {
          "base_uri": "https://localhost:8080/"
        },
        "id": "zJ1552xjSOYp",
        "outputId": "efbc626d-f900-4562-f8cf-6436561b785b"
      },
      "execution_count": 2,
      "outputs": [
        {
          "output_type": "stream",
          "name": "stdout",
          "text": [
            "Girilen isim bulunamadı.\n"
          ]
        }
      ]
    },
    {
      "cell_type": "markdown",
      "source": [
        "Girilen isim bulunamadı çıktısını alacaktık. Bu kodda try hatalı olabilecek kodu tanımlamak except ise hata mesajını yakalamak için kullanılır. Şöyle açıklayabiliriz:"
      ],
      "metadata": {
        "id": "RiBPVIcJSR0x"
      }
    },
    {
      "cell_type": "code",
      "source": [
        "try:\n",
        "    \"hatalı olabilecek kod parçası\"\n",
        "except \"hataadi\":\n",
        "    \"hata durumunda yapılacak işlem\""
      ],
      "metadata": {
        "id": "N9hCDqxHSYL5"
      },
      "execution_count": null,
      "outputs": []
    },
    {
      "cell_type": "markdown",
      "source": [
        "Burada hataadi yerine önceki kodda NameError yazmıştık. Buradaki hata adı pythonun bize çıktıda verdiği \"NameError: name 'akiner' is not defined\" kısmındaki hata başlığındaki hatadır."
      ],
      "metadata": {
        "id": "4YDnXpyfSeTC"
      }
    },
    {
      "cell_type": "markdown",
      "source": [
        "Except'in bir diğer kullanımı ise şu şekildedir:"
      ],
      "metadata": {
        "id": "RAjZdmPiSrxc"
      }
    },
    {
      "cell_type": "code",
      "source": [
        "try:\n",
        "    \"hatalı olabilecek kod parçası\"\n",
        "except:\n",
        "    \"herhangi bir hatada yapılacak işlem\""
      ],
      "metadata": {
        "id": "QYiV4COzSv7z"
      },
      "execution_count": null,
      "outputs": []
    },
    {
      "cell_type": "markdown",
      "source": [
        "except hataadi kullanımına farklı bir örnek verelim. Normalde herhangi bir sayının 0'a bölümü tanımsızdır. Pythonda ise bu bir hata mesajına sebep olur. Örnek olarak:"
      ],
      "metadata": {
        "id": "pAPIgBbvS3sj"
      }
    },
    {
      "cell_type": "code",
      "source": [
        "print(2/0)"
      ],
      "metadata": {
        "colab": {
          "base_uri": "https://localhost:8080/",
          "height": 146
        },
        "id": "Gb_z7VerTGLr",
        "outputId": "e3a6ac62-ed0d-4da5-bb2c-5f17a92f814b"
      },
      "execution_count": 3,
      "outputs": [
        {
          "output_type": "error",
          "ename": "ZeroDivisionError",
          "evalue": "division by zero",
          "traceback": [
            "\u001b[0;31m---------------------------------------------------------------------------\u001b[0m",
            "\u001b[0;31mZeroDivisionError\u001b[0m                         Traceback (most recent call last)",
            "\u001b[0;32m<ipython-input-3-d2c0889640ff>\u001b[0m in \u001b[0;36m<cell line: 1>\u001b[0;34m()\u001b[0m\n\u001b[0;32m----> 1\u001b[0;31m \u001b[0mprint\u001b[0m\u001b[0;34m(\u001b[0m\u001b[0;36m2\u001b[0m\u001b[0;34m/\u001b[0m\u001b[0;36m0\u001b[0m\u001b[0;34m)\u001b[0m\u001b[0;34m\u001b[0m\u001b[0;34m\u001b[0m\u001b[0m\n\u001b[0m",
            "\u001b[0;31mZeroDivisionError\u001b[0m: division by zero"
          ]
        }
      ]
    },
    {
      "cell_type": "markdown",
      "source": [
        "Pythonda 0'a bölüm işlemi ZeroDivisionError olarak tanımlanmıştır. Bu işlemi bir hesap makinesine entegre etmeye deneyelim."
      ],
      "metadata": {
        "id": "n6FQon0yTJPi"
      }
    },
    {
      "cell_type": "code",
      "source": [
        "try:\n",
        "    sayi1 = 1\n",
        "    sayi2 = 0\n",
        "    print(sayi1 / sayi2)\n",
        "except ZeroDivisionError:\n",
        "    print(\"0'a bölüm tanımsızdır.\")"
      ],
      "metadata": {
        "colab": {
          "base_uri": "https://localhost:8080/"
        },
        "id": "GBlJp38JTLpC",
        "outputId": "0b33a0be-16e5-4b2f-ce57-f12867a07182"
      },
      "execution_count": 4,
      "outputs": [
        {
          "output_type": "stream",
          "name": "stdout",
          "text": [
            "0'a bölüm tanımsızdır.\n"
          ]
        }
      ]
    },
    {
      "cell_type": "markdown",
      "source": [
        "Bu şekilde bir kullanım ile hesap makinelerinde 0'a bölüm işlemini tanımlayabiliriz."
      ],
      "metadata": {
        "id": "4akii6Q6TNu6"
      }
    },
    {
      "cell_type": "markdown",
      "source": [
        "Eğer except ile yakaladığımız bir hatanın orijinal hata mesajınıda görmek istiyorsak şu şekilde bir tanımlama yapabiliriz:"
      ],
      "metadata": {
        "id": "5ly98NrLTP7K"
      }
    },
    {
      "cell_type": "code",
      "source": [
        "try:\n",
        "    sayi1 = 1\n",
        "    sayi2 = 0\n",
        "    print(sayi1 / sayi2)\n",
        "except ZeroDivisionError as hatamesaji: # as komutu ile orijinal hata mesajını tanımladık.\n",
        "    print(\"0'a bölüm tanımsızdır. Ayrıntılı hata: \", hatamesaji) # Tanımladığımız mesajı kendi mesajımızla birlikte çıktıya ekledik."
      ],
      "metadata": {
        "colab": {
          "base_uri": "https://localhost:8080/"
        },
        "id": "Hlc4Fi4LTR3h",
        "outputId": "3b98bcc0-744f-4787-8867-c643bce6a314"
      },
      "execution_count": 5,
      "outputs": [
        {
          "output_type": "stream",
          "name": "stdout",
          "text": [
            "0'a bölüm tanımsızdır. Ayrıntılı hata:  division by zero\n"
          ]
        }
      ]
    },
    {
      "cell_type": "markdown",
      "source": [
        "Ayrıca döngülerde kullandığımız else fonksiyonunu hata yakalamadada kullanabiliriz."
      ],
      "metadata": {
        "id": "KWnFXzATTkup"
      }
    },
    {
      "cell_type": "code",
      "source": [
        "try:\n",
        "    sayi1 = int(input(\"bölünecek sayı: \"))\n",
        "    sayi2 = int(input(\"bölen sayı: \"))\n",
        "except ValueError: # Eğer inputa integer(sayısal) hariç bir değer girilirse verilecek hata mesajı.\n",
        "    print(\"Lütfen sadece sayı girin!\")\n",
        "else: # Üstteki koşul sağlanmadığında denenecek diğer hata yakalama fonksiyonu.\n",
        "    try:\n",
        "        print(sayi1/sayi2)\n",
        "    except ZeroDivisionError:\n",
        "        print(\"0'a bölüm tanımsızdır.\")"
      ],
      "metadata": {
        "colab": {
          "base_uri": "https://localhost:8080/"
        },
        "id": "UVn7F2tTTmji",
        "outputId": "5642ba50-bcd9-45c3-e4e1-1169fc5d7506"
      },
      "execution_count": 7,
      "outputs": [
        {
          "output_type": "stream",
          "name": "stdout",
          "text": [
            "bölünecek sayı: 1\n",
            "bölen sayı: akiner\n",
            "Lütfen sadece sayı girin!\n"
          ]
        }
      ]
    },
    {
      "cell_type": "markdown",
      "source": [
        "Hata ayıklamada bir diğer özellik finally özelliğidir."
      ],
      "metadata": {
        "id": "WF0eNdtiT27L"
      }
    },
    {
      "cell_type": "code",
      "source": [
        "try:\n",
        "    \"hatalı olabilecek kod parçası\"\n",
        "except \"HataAdı\":\n",
        "    \"hata durumunda yapılacak işlem\"\n",
        "finally:\n",
        "    \"hata olsada olmasada en son yapılacak işlem.\""
      ],
      "metadata": {
        "id": "bumBRDGnT5Xr"
      },
      "execution_count": null,
      "outputs": []
    },
    {
      "cell_type": "markdown",
      "source": [
        "Örnek verecek olursak:"
      ],
      "metadata": {
        "id": "0z5KyF7qT7jz"
      }
    },
    {
      "cell_type": "code",
      "source": [
        "try:\n",
        "    sayi1 = 1\n",
        "    sayi2 = 0\n",
        "    print(sayi1 / sayi2)\n",
        "except ZeroDivisionError:\n",
        "    print(\"0'a bölüm tanımsızdır.\")\n",
        "finally:\n",
        "    print(\"Bu mesaj finally mesajıdır.\") # Bu satırdaki mesajı program normalde çalışssa hatada verse her koşulda görürüz.\n"
      ],
      "metadata": {
        "colab": {
          "base_uri": "https://localhost:8080/"
        },
        "id": "BlgT-9lNVq6S",
        "outputId": "8c7a7111-b7d6-4b58-bebe-ea64a1481bb1"
      },
      "execution_count": 8,
      "outputs": [
        {
          "output_type": "stream",
          "name": "stdout",
          "text": [
            "0'a bölüm tanımsızdır.\n",
            "Bu mesaj finally mesajıdır.\n"
          ]
        }
      ]
    },
    {
      "cell_type": "markdown",
      "source": [
        "Bazen pythonda normalde hata vermeyen durumlarda hata mesajı üretmek isteyebiliriz. Bu durumda raise fonksiyonunu kullanırız."
      ],
      "metadata": {
        "id": "P9G-WSxtVtk7"
      }
    },
    {
      "cell_type": "code",
      "source": [
        "sayi1 = int(input(\"bölünecek sayı: \"))\n",
        "sayi2 = int(input(\"bölen sayı: \"))\n",
        "if sayi2 == 0:\n",
        "    raise Exception(\"0'a bölüm tanımsızdır.\") # Bölen sayının 0 olması durumunda 0'a bölüm tanımsızdır hata mesajını gösteriyoruz.\n",
        "print(sayi1/sayi2)"
      ],
      "metadata": {
        "colab": {
          "base_uri": "https://localhost:8080/",
          "height": 237
        },
        "id": "ypo_Dzl1VxqS",
        "outputId": "97955585-a076-4907-f6fe-7454b7706884"
      },
      "execution_count": 13,
      "outputs": [
        {
          "name": "stdout",
          "output_type": "stream",
          "text": [
            "bölünecek sayı: 1\n",
            "bölen sayı: 0\n"
          ]
        },
        {
          "output_type": "error",
          "ename": "Exception",
          "evalue": "0'a bölüm tanımsızdır.",
          "traceback": [
            "\u001b[0;31m---------------------------------------------------------------------------\u001b[0m",
            "\u001b[0;31mException\u001b[0m                                 Traceback (most recent call last)",
            "\u001b[0;32m<ipython-input-13-b828b7d51e57>\u001b[0m in \u001b[0;36m<cell line: 3>\u001b[0;34m()\u001b[0m\n\u001b[1;32m      2\u001b[0m \u001b[0msayi2\u001b[0m \u001b[0;34m=\u001b[0m \u001b[0mint\u001b[0m\u001b[0;34m(\u001b[0m\u001b[0minput\u001b[0m\u001b[0;34m(\u001b[0m\u001b[0;34m\"bölen sayı: \"\u001b[0m\u001b[0;34m)\u001b[0m\u001b[0;34m)\u001b[0m\u001b[0;34m\u001b[0m\u001b[0;34m\u001b[0m\u001b[0m\n\u001b[1;32m      3\u001b[0m \u001b[0;32mif\u001b[0m \u001b[0msayi2\u001b[0m \u001b[0;34m==\u001b[0m \u001b[0;36m0\u001b[0m\u001b[0;34m:\u001b[0m\u001b[0;34m\u001b[0m\u001b[0;34m\u001b[0m\u001b[0m\n\u001b[0;32m----> 4\u001b[0;31m     \u001b[0;32mraise\u001b[0m \u001b[0mException\u001b[0m\u001b[0;34m(\u001b[0m\u001b[0;34m\"0'a bölüm tanımsızdır.\"\u001b[0m\u001b[0;34m)\u001b[0m \u001b[0;31m# Bölen sayının 0 olması durumunda 0'a bölüm tanımsızdır hata mesajını gösteriyoruz.\u001b[0m\u001b[0;34m\u001b[0m\u001b[0;34m\u001b[0m\u001b[0m\n\u001b[0m\u001b[1;32m      5\u001b[0m \u001b[0mprint\u001b[0m\u001b[0;34m(\u001b[0m\u001b[0msayi1\u001b[0m\u001b[0;34m/\u001b[0m\u001b[0msayi2\u001b[0m\u001b[0;34m)\u001b[0m\u001b[0;34m\u001b[0m\u001b[0;34m\u001b[0m\u001b[0m\n",
            "\u001b[0;31mException\u001b[0m: 0'a bölüm tanımsızdır."
          ]
        }
      ]
    }
  ]
}