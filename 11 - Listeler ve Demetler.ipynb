{
  "nbformat": 4,
  "nbformat_minor": 0,
  "metadata": {
    "colab": {
      "provenance": [],
      "authorship_tag": "ABX9TyPTiY7BMt8HXDfwd4M/bIO3",
      "include_colab_link": true
    },
    "kernelspec": {
      "name": "python3",
      "display_name": "Python 3"
    },
    "language_info": {
      "name": "python"
    }
  },
  "cells": [
    {
      "cell_type": "markdown",
      "metadata": {
        "id": "view-in-github",
        "colab_type": "text"
      },
      "source": [
        "<a href=\"https://colab.research.google.com/github/akinerkisa/python-notlari/blob/main/11_Listeler_ve_Demetler.ipynb\" target=\"_parent\"><img src=\"https://colab.research.google.com/assets/colab-badge.svg\" alt=\"Open In Colab\"/></a>"
      ]
    },
    {
      "cell_type": "markdown",
      "source": [
        "String veri tiplerini karakter dizisi olarak tanımladığımız gibi pythonda bu tarz farklı veri tipleride vardır. Bu veri tiplerinden diğer ikisi liste ve demetlerdir."
      ],
      "metadata": {
        "id": "kOBW4dvrGFfg"
      }
    },
    {
      "cell_type": "markdown",
      "source": [
        "#Listeler\n",
        "Öncelikle listelere bakalım ve karakter dizileri ile farkına değinelim."
      ],
      "metadata": {
        "id": "1oP4Y2h4GVvB"
      }
    },
    {
      "cell_type": "code",
      "execution_count": null,
      "metadata": {
        "colab": {
          "base_uri": "https://localhost:8080/"
        },
        "id": "7INMwgzbFnAB",
        "outputId": "3698876c-38f0-4cc0-cef8-e2c0fb75c8bf"
      },
      "outputs": [
        {
          "output_type": "execute_result",
          "data": {
            "text/plain": [
              "str"
            ]
          },
          "metadata": {},
          "execution_count": 1
        }
      ],
      "source": [
        "karakter_dizisi = \"karakter dizisi\" # Bu bir karakter dizisidir.\n",
        "type(karakter_dizisi)"
      ]
    },
    {
      "cell_type": "markdown",
      "source": [
        "Burada tırnak içine aldığımız ifade bir karakter dizisi olarak geçiyor. Listede buna çok benzer ama bir farklılıkla tanımlanır:"
      ],
      "metadata": {
        "id": "CJz1g_vtGe1p"
      }
    },
    {
      "cell_type": "code",
      "source": [
        "liste = [\"eleman1\", \"eleman2\", \"eleman3\"]\n",
        "type(liste) # Burada liste'nin tipinin str değil list olduğunu yani ikisinin birbirinden ayrıldığını görüyoruz."
      ],
      "metadata": {
        "colab": {
          "base_uri": "https://localhost:8080/"
        },
        "id": "OitZrU5cGnIE",
        "outputId": "884ddc14-5561-4259-dc18-fcea8163629a"
      },
      "execution_count": null,
      "outputs": [
        {
          "output_type": "execute_result",
          "data": {
            "text/plain": [
              "list"
            ]
          },
          "metadata": {},
          "execution_count": 3
        }
      ]
    },
    {
      "cell_type": "markdown",
      "source": [
        "Buradan listelerin karakter dizilerinide içine alabilen bir yapı olduğunu anlayabiliriz. Ayrıca listelerde farklı veri tiplerinide aynı liste içinde belirtebiliriz."
      ],
      "metadata": {
        "id": "pUDrf8DYGtau"
      }
    },
    {
      "cell_type": "code",
      "source": [
        "liste = [\"eleman1\", 1, 0.1, True]\n",
        "type(liste)"
      ],
      "metadata": {
        "colab": {
          "base_uri": "https://localhost:8080/"
        },
        "id": "pci8CVsSI2Bj",
        "outputId": "965b6941-41d6-498d-8adb-935bd86f881a"
      },
      "execution_count": null,
      "outputs": [
        {
          "output_type": "execute_result",
          "data": {
            "text/plain": [
              "list"
            ]
          },
          "metadata": {},
          "execution_count": 5
        }
      ]
    },
    {
      "cell_type": "markdown",
      "source": [
        "Aynı zamanda listelerin içine farklı listelerde koyabiliriz:"
      ],
      "metadata": {
        "id": "T6gNRHTsI-Dv"
      }
    },
    {
      "cell_type": "code",
      "source": [
        "liste = [ [\"eleman1\", \"eleman2\", \"eleman3\"], 1, 0.1, True]\n",
        "type(liste)"
      ],
      "metadata": {
        "colab": {
          "base_uri": "https://localhost:8080/"
        },
        "id": "QKWP93QkJA72",
        "outputId": "324c93ec-2263-4da4-ff44-078f57953cac"
      },
      "execution_count": null,
      "outputs": [
        {
          "output_type": "execute_result",
          "data": {
            "text/plain": [
              "list"
            ]
          },
          "metadata": {},
          "execution_count": 6
        }
      ]
    },
    {
      "cell_type": "markdown",
      "source": [
        "Listelerin içindeki öğelerin tiplerinide istersek listeleyebiliriz:"
      ],
      "metadata": {
        "id": "Lx1fWqy-nLw1"
      }
    },
    {
      "cell_type": "code",
      "source": [
        "liste = [ [\"eleman1\", \"eleman2\", \"eleman3\"], 1, 0.1, True]\n",
        "for i in liste:\n",
        "  print(\"{} adlı öğenin veri tipi: {}\".format(i, type(i)))\n"
      ],
      "metadata": {
        "id": "1UsTW0-XnOds",
        "colab": {
          "base_uri": "https://localhost:8080/"
        },
        "outputId": "5eca41e4-e705-4e9e-9568-987a14ba94ad"
      },
      "execution_count": 1,
      "outputs": [
        {
          "output_type": "stream",
          "name": "stdout",
          "text": [
            "['eleman1', 'eleman2', 'eleman3'] adlı öğenin veri tipi: <class 'list'>\n",
            "1 adlı öğenin veri tipi: <class 'int'>\n",
            "0.1 adlı öğenin veri tipi: <class 'float'>\n",
            "True adlı öğenin veri tipi: <class 'bool'>\n"
          ]
        }
      ]
    },
    {
      "cell_type": "markdown",
      "source": [
        "Aslında bu örnek ilede karakter dizileri ve listelerin arasındaki belirgin farkı görüyoruz. Karakter dizisi sadece str değer dönerken listelere farklı veri tipleri ekleyebiliyoruz."
      ],
      "metadata": {
        "id": "iCQp5BO5rwLq"
      }
    },
    {
      "cell_type": "code",
      "source": [
        "liste = [] # Listelerin sınırlayıcısı ise önceki örneklerdende anlayabileceğimiz gibi köşeli parantezlerdir."
      ],
      "metadata": {
        "id": "LZAT6UF0sA6U"
      },
      "execution_count": 2,
      "outputs": []
    },
    {
      "cell_type": "code",
      "source": [
        "diller = [\"İngilizce\", \"Fransızca\", \"Türkçe\", \"İtalyanca\", \"İspanyolca\"]\n",
        "len(diller)"
      ],
      "metadata": {
        "colab": {
          "base_uri": "https://localhost:8080/"
        },
        "id": "NYAdC1vhscnE",
        "outputId": "9454af8a-2d2d-4ca6-a9d8-b56cf61a2667"
      },
      "execution_count": 3,
      "outputs": [
        {
          "output_type": "execute_result",
          "data": {
            "text/plain": [
              "5"
            ]
          },
          "metadata": {},
          "execution_count": 3
        }
      ]
    },
    {
      "cell_type": "markdown",
      "source": [
        "Listelerle alakalı değinebileceğimiz diğer özellik ise len() fonksiyonudur. Bu fonksiyon ile listelerin eleman sayısını öğrenebiliriz."
      ],
      "metadata": {
        "id": "Yt6vmflIsf5M"
      }
    },
    {
      "cell_type": "code",
      "source": [
        "harfler = \"abcdefg\"\n",
        "harf_listesi = list(harfler)\n",
        "print(harf_listesi)"
      ],
      "metadata": {
        "colab": {
          "base_uri": "https://localhost:8080/"
        },
        "id": "-YFEpQtFs3yj",
        "outputId": "ae8f922f-c9d7-4091-cfbf-fd7db4a53bdf"
      },
      "execution_count": 6,
      "outputs": [
        {
          "output_type": "stream",
          "name": "stdout",
          "text": [
            "['a', 'b', 'c', 'd', 'e', 'f', 'g']\n"
          ]
        }
      ]
    },
    {
      "cell_type": "markdown",
      "source": [
        "Liste oluşturmak için kullanabileceğimiz bir diğer pratik fonksiyon ise list() fonksiyonudur. Karakter dizilerinin elemanlarını liste haline getirmek için list() fonksiyonundan yararlanabiliriz."
      ],
      "metadata": {
        "id": "mCIUGtUTtQfv"
      }
    },
    {
      "cell_type": "code",
      "source": [
        "meyveler = [\"elma\", \"armut\", \"çilek\", \"kiraz\"]\n",
        "meyveler[0]"
      ],
      "metadata": {
        "colab": {
          "base_uri": "https://localhost:8080/",
          "height": 36
        },
        "id": "2y3mjGUJtdOC",
        "outputId": "37ba8c74-36c5-419d-a72e-1e545763e286"
      },
      "execution_count": 7,
      "outputs": [
        {
          "output_type": "execute_result",
          "data": {
            "text/plain": [
              "'elma'"
            ],
            "application/vnd.google.colaboratory.intrinsic+json": {
              "type": "string"
            }
          },
          "metadata": {},
          "execution_count": 7
        }
      ]
    },
    {
      "cell_type": "markdown",
      "source": [
        "Karakter dizilerinde olduğu gibi listelerinde elemanlarına ayrı ayrı ulaşabiliriz."
      ],
      "metadata": {
        "id": "kzWg5yaLthQu"
      }
    },
    {
      "cell_type": "code",
      "source": [
        "meyveler = [\"elma\", \"armut\", \"çilek\", \"kiraz\"]\n",
        "\n",
        "for meyve in meyveler:\n",
        "    print(meyve)"
      ],
      "metadata": {
        "colab": {
          "base_uri": "https://localhost:8080/"
        },
        "id": "0bkTmYbVtm-a",
        "outputId": "1db9a33d-4dfc-4241-9071-ac06f5a82bea"
      },
      "execution_count": 8,
      "outputs": [
        {
          "output_type": "stream",
          "name": "stdout",
          "text": [
            "elma\n",
            "armut\n",
            "çilek\n",
            "kiraz\n"
          ]
        }
      ]
    },
    {
      "cell_type": "markdown",
      "source": [
        "Bu şekilde listedeki elemanların hepsine teker teker ulaşabilmemizde mümkündür."
      ],
      "metadata": {
        "id": "PdfbztmOtn7Q"
      }
    },
    {
      "cell_type": "code",
      "source": [
        "meyveler = [\"elma\", \"armut\", \"çilek\", \"kiraz\"]\n",
        "meyveler[-1]"
      ],
      "metadata": {
        "colab": {
          "base_uri": "https://localhost:8080/",
          "height": 36
        },
        "id": "6DWvUJgPtwcj",
        "outputId": "acbffcad-486e-4250-937a-ad738883547d"
      },
      "execution_count": 9,
      "outputs": [
        {
          "output_type": "execute_result",
          "data": {
            "text/plain": [
              "'kiraz'"
            ],
            "application/vnd.google.colaboratory.intrinsic+json": {
              "type": "string"
            }
          },
          "metadata": {},
          "execution_count": 9
        }
      ]
    },
    {
      "cell_type": "markdown",
      "source": [
        "Yine karakter dizilerinde kullandığımız birçok yöntemi listelerdede aynı şekilde kullanabiliriz."
      ],
      "metadata": {
        "id": "q4AovtNAtxPN"
      }
    },
    {
      "cell_type": "code",
      "source": [
        "renkler = [\"kırmızı\", \"sarı\", \"mavi\", \"yeşil\", \"beyaz\"]\n",
        "print(renkler)"
      ],
      "metadata": {
        "colab": {
          "base_uri": "https://localhost:8080/"
        },
        "id": "Fd3R9YGKuAMy",
        "outputId": "437a3b46-a2ba-4228-8426-727647614b25"
      },
      "execution_count": 10,
      "outputs": [
        {
          "output_type": "stream",
          "name": "stdout",
          "text": [
            "['kırmızı', 'sarı', 'mavi', 'yeşil', 'beyaz']\n"
          ]
        }
      ]
    },
    {
      "cell_type": "code",
      "source": [
        "renkler[0] = \"siyah\"\n",
        "print(renkler)\n"
      ],
      "metadata": {
        "colab": {
          "base_uri": "https://localhost:8080/"
        },
        "id": "76Z_1-NmuB3T",
        "outputId": "8b261cba-a4f1-4468-b352-4fcd23d7dd0e"
      },
      "execution_count": 11,
      "outputs": [
        {
          "output_type": "stream",
          "name": "stdout",
          "text": [
            "['siyah', 'sarı', 'mavi', 'yeşil', 'beyaz']\n"
          ]
        }
      ]
    },
    {
      "cell_type": "markdown",
      "source": [
        "Listelerin öğelerine eriştiğimiz gibi listelerin öğelerinide değiştirebiliriz."
      ],
      "metadata": {
        "id": "9Zl96Y2buE-B"
      }
    },
    {
      "cell_type": "code",
      "source": [
        "meyve = [\"elma\", \"armut\", \"çilek\"]\n",
        "sebze = [\"salatalık\", \"maydanoz\", \"marul\"]\n",
        "meyve_sebze = meyve + sebze\n",
        "print(meyve_sebze)"
      ],
      "metadata": {
        "colab": {
          "base_uri": "https://localhost:8080/"
        },
        "id": "epHmos_quMBO",
        "outputId": "029b2104-c37c-4d88-ad6c-3200773bfbdd"
      },
      "execution_count": 12,
      "outputs": [
        {
          "output_type": "stream",
          "name": "stdout",
          "text": [
            "['elma', 'armut', 'çilek', 'salatalık', 'maydanoz', 'marul']\n"
          ]
        }
      ]
    },
    {
      "cell_type": "markdown",
      "source": [
        "Listeleri bu şekildede birleştirebiliriz."
      ],
      "metadata": {
        "id": "cR7iUkRWuhVS"
      }
    },
    {
      "cell_type": "markdown",
      "source": [
        "#Demetler\n",
        "Demetler listelere benzeyen farklı veri tipleri barındırabilen bir diğer veri tipidir. Yerine göre listelerle farklı kullandıldığı yerler olsada genel itibariyle birbirlerine benzerler."
      ],
      "metadata": {
        "id": "ohrTONkUusBx"
      }
    },
    {
      "cell_type": "code",
      "source": [
        "demet = (\"akıner\", True, 13, 37)\n",
        "\n",
        "type(demet)"
      ],
      "metadata": {
        "colab": {
          "base_uri": "https://localhost:8080/"
        },
        "id": "wFgOmdGVu-LV",
        "outputId": "a1db9e56-f32d-49d6-eeff-ff075c4dd645"
      },
      "execution_count": 14,
      "outputs": [
        {
          "output_type": "execute_result",
          "data": {
            "text/plain": [
              "tuple"
            ]
          },
          "metadata": {},
          "execution_count": 14
        }
      ]
    },
    {
      "cell_type": "markdown",
      "source": [
        "Listeleri köşeli parantez - [] ile ayırt ederken demetleri normal parantez ile tanımlarız. Karakter dizilerinden farklı olan tarafı ise listeler gibi birden fazla veri tipini içinde barındırabilme özelliğidir."
      ],
      "metadata": {
        "id": "gKDKQb1JvB96"
      }
    },
    {
      "cell_type": "code",
      "source": [
        "demet = \"akıner\", True, 13, 37\n",
        "\n",
        "type(demet)"
      ],
      "metadata": {
        "colab": {
          "base_uri": "https://localhost:8080/"
        },
        "id": "Ty6iuucSvVKR",
        "outputId": "6d802f5b-9979-46c5-eec4-309f81b94dc3"
      },
      "execution_count": 15,
      "outputs": [
        {
          "output_type": "execute_result",
          "data": {
            "text/plain": [
              "tuple"
            ]
          },
          "metadata": {},
          "execution_count": 15
        }
      ]
    },
    {
      "cell_type": "markdown",
      "source": [
        "İstersek parantez kullanmadanda bir demet tanımlayabiliriz."
      ],
      "metadata": {
        "id": "pTIqRYMOvXiv"
      }
    },
    {
      "cell_type": "code",
      "source": [
        "demet = tuple('abcdefg')\n",
        "type(demet)"
      ],
      "metadata": {
        "colab": {
          "base_uri": "https://localhost:8080/"
        },
        "id": "VX5XPrRxvd05",
        "outputId": "b89ee069-9c27-4ac2-af92-2b5fcfc002f8"
      },
      "execution_count": 17,
      "outputs": [
        {
          "output_type": "execute_result",
          "data": {
            "text/plain": [
              "tuple"
            ]
          },
          "metadata": {},
          "execution_count": 17
        }
      ]
    },
    {
      "cell_type": "markdown",
      "source": [
        "Listelerdeki list() fonksiyonuna benzer şekilde tuple() fonksiyonu ile pratik şekilde demet tanımlayabiliriz."
      ],
      "metadata": {
        "id": "pbJzfLq9vgK8"
      }
    },
    {
      "cell_type": "code",
      "source": [
        "demet = ('elma', 'armut', 'çilek')\n",
        "demet[0]\n"
      ],
      "metadata": {
        "colab": {
          "base_uri": "https://localhost:8080/",
          "height": 36
        },
        "id": "Uc6V5jPivxUL",
        "outputId": "83230e48-081f-4d9b-eef1-5f8a1949058b"
      },
      "execution_count": 18,
      "outputs": [
        {
          "output_type": "execute_result",
          "data": {
            "text/plain": [
              "'elma'"
            ],
            "application/vnd.google.colaboratory.intrinsic+json": {
              "type": "string"
            }
          },
          "metadata": {},
          "execution_count": 18
        }
      ]
    },
    {
      "cell_type": "markdown",
      "source": [
        "Demetlerdeki elemanlarada karakter dizileri ve listelerdeki gibi erişebiliriz."
      ],
      "metadata": {
        "id": "Gvkhruwtvy1H"
      }
    }
  ]
}
