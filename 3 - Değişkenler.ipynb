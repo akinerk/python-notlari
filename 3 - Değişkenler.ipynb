{
  "nbformat": 4,
  "nbformat_minor": 0,
  "metadata": {
    "colab": {
      "provenance": [],
      "authorship_tag": "ABX9TyNkfeuRLLymS+fX0Ftkuvux",
      "include_colab_link": true
    },
    "kernelspec": {
      "name": "python3",
      "display_name": "Python 3"
    },
    "language_info": {
      "name": "python"
    }
  },
  "cells": [
    {
      "cell_type": "markdown",
      "metadata": {
        "id": "view-in-github",
        "colab_type": "text"
      },
      "source": [
        "<a href=\"https://colab.research.google.com/github/akinerk/python-notlari/blob/main/3_De%C4%9Fi%C5%9Fkenler.ipynb\" target=\"_parent\"><img src=\"https://colab.research.google.com/assets/colab-badge.svg\" alt=\"Open In Colab\"/></a>"
      ]
    },
    {
      "cell_type": "markdown",
      "source": [
        "<p>Python'da değişkenler matematik dilinden farklıdır. Örnek olarak:</p>\n",
        "<p>x + 5 = 7 Bu işlemde x = 2'dir ve bu değişmez ancak.</p>"
      ],
      "metadata": {
        "id": "pS9wyfNZM2N6"
      }
    },
    {
      "cell_type": "code",
      "execution_count": 1,
      "metadata": {
        "colab": {
          "base_uri": "https://localhost:8080/"
        },
        "id": "j6taisB-MxSt",
        "outputId": "9fa3f78c-5e1a-43e4-e16d-9a0f6d89634e"
      },
      "outputs": [
        {
          "output_type": "stream",
          "name": "stdout",
          "text": [
            "8\n"
          ]
        }
      ],
      "source": [
        "sayi = 3  # Burada sayı değişkenine 3 sayısını tanımlarsak\n",
        "sayi = sayi + 5  # Burada sayı olarak tanımladığımız değişkene +5 ekleyip tekrar sayıyı tanımlarsak\n",
        "print(sayi)  # Sayı değişkenini başta 3 olarak tanımladığımız halde sonradan +5 eklediğimiz için 8 çıktısını alırız.\n"
      ]
    },
    {
      "cell_type": "markdown",
      "source": [
        "Python'da değişken tanımlarken Python bunu sağdan okumaya başlar."
      ],
      "metadata": {
        "id": "Epae1D8-NAMa"
      }
    },
    {
      "cell_type": "markdown",
      "source": [
        "Yani örnekte sayi + 5'i Python önce toplayıp sonra sayı değişkenine atama yaptığı için sayı değişkenini toplama için kullanıp sonra yenilenmiş sayı değişkenini kullanabiliriz.\n"
      ],
      "metadata": {
        "id": "iQ4MnVrXNCKi"
      }
    },
    {
      "cell_type": "code",
      "source": [
        "True\n",
        "False\n",
        "None"
      ],
      "metadata": {
        "id": "9r2Y0ZmWNFGD"
      },
      "execution_count": null,
      "outputs": []
    },
    {
      "cell_type": "markdown",
      "source": [
        "<p>Bu tarz ifadeler ve \"try\", \"class\" gibi Python'a özgü anahtar kelimeleri değişken olarak kullanamayız.</p>\n",
        "<p>1 = \"Akıner\" tarzı değişken isimleri kullanamayız. Değişken isimleri sayılarla başlayamaz.</p>\n",
        "<p>+, -, *, / ifadelerini de değişkenlerin başlangıcında kullanamayız.</p>\n",
        "<p>Değişkenleri tanımlarken boşluk kullanamayız. \"isim soyisim = 'Akıner'\" şeklinde kullanım yanlıştır. \"isim_soyisim = 'Akıner'\" olmalıdır.</p>\n"
      ],
      "metadata": {
        "id": "Xj_ObTKdNGv6"
      }
    },
    {
      "cell_type": "markdown",
      "source": [
        "Pratik değişken kullanımlarına şu örnekleri verebiliriz:"
      ],
      "metadata": {
        "id": "B0QIjpjtNSUa"
      }
    },
    {
      "cell_type": "code",
      "source": [
        "isim = \"Akıner\"\n",
        "soyisim = \"Kısa\"\n",
        "print(\"Merhaba\", isim, soyisim)  # Burada isim ve soyisim değişkenlerini tanımlayıp print fonksiyonunda gördüğümüz özelliklerle \"Merhaba Akıner Kısa\" çıktısı aldık.\n"
      ],
      "metadata": {
        "colab": {
          "base_uri": "https://localhost:8080/"
        },
        "id": "sE0OUI9rNT5S",
        "outputId": "0ccf58a5-6cdb-4d29-8c04-19f0338494d5"
      },
      "execution_count": 2,
      "outputs": [
        {
          "output_type": "stream",
          "name": "stdout",
          "text": [
            "Merhaba Akıner Kısa\n"
          ]
        }
      ]
    },
    {
      "cell_type": "code",
      "source": [
        "birincisayi = 5\n",
        "ikincisayi = 6\n",
        "toplam = birincisayi + ikincisayi\n",
        "carpim = birincisayi * ikincisayi\n",
        "print(birincisayi, \"ve\", ikincisayi, \"'nin toplamı\", toplam, \"çarpımı\", carpim, \"'dir\")\n"
      ],
      "metadata": {
        "colab": {
          "base_uri": "https://localhost:8080/"
        },
        "id": "3aPp4JdZNXb7",
        "outputId": "7ddc72de-2b57-4b4a-8611-ab8cfc82b481"
      },
      "execution_count": 3,
      "outputs": [
        {
          "output_type": "stream",
          "name": "stdout",
          "text": [
            "5 ve 6 'nin toplamı 11 çarpımı 30 'dir\n"
          ]
        }
      ]
    },
    {
      "cell_type": "markdown",
      "source": [
        "<p>Burada verdiğimiz örnekte ise 4 farklı değişken tanımladık. Önce sayıları tanımlayıp sonrasında Python'a entegre operatörler ile işlemleri gerçekleştirdik.</p>\n",
        "<p>Ardından ise print fonksiyonu ile sonucumuzu yazdırdık.</p>"
      ],
      "metadata": {
        "id": "c8EeyXqANZ76"
      }
    }
  ]
}
