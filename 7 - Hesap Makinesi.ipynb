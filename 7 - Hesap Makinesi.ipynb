{
  "nbformat": 4,
  "nbformat_minor": 0,
  "metadata": {
    "colab": {
      "provenance": [],
      "authorship_tag": "ABX9TyPPzzKY+kxmONQ2ihZaKLEu",
      "include_colab_link": true
    },
    "kernelspec": {
      "name": "python3",
      "display_name": "Python 3"
    },
    "language_info": {
      "name": "python"
    }
  },
  "cells": [
    {
      "cell_type": "markdown",
      "metadata": {
        "id": "view-in-github",
        "colab_type": "text"
      },
      "source": [
        "<a href=\"https://colab.research.google.com/github/akinerk/python-notlari/blob/main/7_Hesap_Makinesi.ipynb\" target=\"_parent\"><img src=\"https://colab.research.google.com/assets/colab-badge.svg\" alt=\"Open In Colab\"/></a>"
      ]
    },
    {
      "cell_type": "markdown",
      "source": [
        "Şimdi ise şu ana kadar öğrendiklerimizle örnek tam çalışan bir uygulama kodlayalım."
      ],
      "metadata": {
        "id": "9G2Q6LplTQNr"
      }
    },
    {
      "cell_type": "markdown",
      "source": [
        "Bu uygulama bir hesap makinesi olacak.\n"
      ],
      "metadata": {
        "id": "NmS2lGkVTTri"
      }
    },
    {
      "cell_type": "code",
      "execution_count": 1,
      "metadata": {
        "colab": {
          "base_uri": "https://localhost:8080/"
        },
        "id": "aT5bxsptTD_P",
        "outputId": "80683722-32d4-45c4-8fc6-5386d6395c70"
      },
      "outputs": [
        {
          "output_type": "stream",
          "name": "stdout",
          "text": [
            "Birinci sayıyı girin: 2\n",
            "İkinci sayıyı girin: 3\n",
            "\n",
            "1) Toplama\n",
            "2) Çarpma     \n",
            "3) Bölme\n",
            "4) Çıkarma\n",
            "\n",
            "Çıkış için 'quit' yazınız\n",
            "Seçiminizi giriniz: 1\n",
            "5\n",
            "Çıkış için 'quit' yazınız\n",
            "Seçiminizi giriniz: 5\n",
            "Geçersiz işlem.\n",
            "Çıkış için 'quit' yazınız\n",
            "Seçiminizi giriniz: 3\n",
            "0.6666666666666666\n",
            "Çıkış için 'quit' yazınız\n",
            "Seçiminizi giriniz: quit\n",
            "Çıkış yapılıyor\n"
          ]
        }
      ],
      "source": [
        "sayi1 = int(input(\"Birinci sayıyı girin: \"))  # 1. sayıyı kullanıcıdan integer olarak alıyoruz.\n",
        "sayi2 = int(input(\"İkinci sayıyı girin: \"))  # 2. sayıyı kullanıcıdan integer olarak alıyoruz.\n",
        "print(\"\"\"\n",
        "1) Toplama\n",
        "2) Çarpma\n",
        "3) Bölme\n",
        "4) Çıkarma\n",
        "\"\"\")  # Burada üç çift tırnak ile bir menü hazırlıyoruz.\n",
        "while True:  # Burada hesap makinemizin işlem yaptıktan sonra tekrardan işlem yapabilmesi için döngüye alıyoruz.\n",
        "  print(\"Çıkış için 'quit' yazınız\")\n",
        "  secim = input(\"Seçiminizi giriniz: \")  # Burada kullanıcıdan yapmak istediği işlemin seçimini alıyoruz.\n",
        "  if secim == \"1\":\n",
        "      print(sayi1 + sayi2)\n",
        "  elif secim == \"2\":\n",
        "      print(sayi1 * sayi2)\n",
        "  elif secim == \"3\":\n",
        "      print(sayi1 / sayi2)\n",
        "  elif secim == \"4\":\n",
        "      print(sayi1 - sayi2)\n",
        "  elif secim == \"quit\":\n",
        "      print(\"Çıkış yapılıyor\")\n",
        "      break  # Burada quit ifadesi girilirse döngüyü kapatıp programı sonlandırıyoruz.\n",
        "  else:\n",
        "      print(\"Geçersiz işlem.\")  # Eğer menüde tanımladığımız işlemler dışında bir sayı girilirse geçersiz işlem mesajı veriyoruz."
      ]
    },
    {
      "cell_type": "markdown",
      "source": [
        "Bu uygulamada input değerlerini string olarak aldık. Bunları direkt olarak çift tırnaksız 1, 2, 3, 4 diye integer olarak da alabilirdik. Herhangi bir şey değişmezdi.\n"
      ],
      "metadata": {
        "id": "cp4q6O2VTXrN"
      }
    },
    {
      "cell_type": "markdown",
      "source": [
        " Ama eğer sayıyla değil de \"Toplama\", \"Çıkarma\" gibi bir input değeri isteseydik string harici bir ifade kullanamazdık."
      ],
      "metadata": {
        "id": "5Q8t6HoqTZUz"
      }
    }
  ]
}
