{
  "nbformat": 4,
  "nbformat_minor": 0,
  "metadata": {
    "colab": {
      "provenance": [],
      "authorship_tag": "ABX9TyNbBju0x0lmIuwHmw40QVni",
      "include_colab_link": true
    },
    "kernelspec": {
      "name": "python3",
      "display_name": "Python 3"
    },
    "language_info": {
      "name": "python"
    }
  },
  "cells": [
    {
      "cell_type": "markdown",
      "metadata": {
        "id": "view-in-github",
        "colab_type": "text"
      },
      "source": [
        "<a href=\"https://colab.research.google.com/github/akinerk/python-notlari/blob/main/10_format()_ve_f_string.ipynb\" target=\"_parent\"><img src=\"https://colab.research.google.com/assets/colab-badge.svg\" alt=\"Open In Colab\"/></a>"
      ]
    },
    {
      "cell_type": "markdown",
      "source": [
        "Pythonda karakter dizilerini biçimlendirmek için format metodunu kullanırız. Format fonksiyonunun ne olduğunu bir örnekle açıklayalım.\n",
        ":"
      ],
      "metadata": {
        "id": "9vBiPrK9OwBP"
      }
    },
    {
      "cell_type": "code",
      "execution_count": 1,
      "metadata": {
        "colab": {
          "base_uri": "https://localhost:8080/"
        },
        "id": "G3iWaDb8OrGk",
        "outputId": "97ab47ff-c520-4da9-e0c1-098f323ae6d8"
      },
      "outputs": [
        {
          "output_type": "stream",
          "name": "stdout",
          "text": [
            "Akıner Kısa kimdir\n"
          ]
        }
      ],
      "source": [
        "print(\"{} {} kimdir\".format(\"Akıner\", \"Kısa\"))"
      ]
    },
    {
      "cell_type": "markdown",
      "source": [
        "Burada format fonksiyonunu aslında karakter dizilerinde farklı karakterleri birleştirmek için kullanıyoruz. Mesela şöyle iki adet örnek verelim:"
      ],
      "metadata": {
        "id": "xs-Ax-kWPJlw"
      }
    },
    {
      "cell_type": "code",
      "source": [
        "print(\"Akıner\", 1,\"Kısa\" ,2)"
      ],
      "metadata": {
        "colab": {
          "base_uri": "https://localhost:8080/"
        },
        "id": "uVGCM5TiPg7f",
        "outputId": "bcdf3f0c-af43-476c-d339-49dd8ae17319"
      },
      "execution_count": 4,
      "outputs": [
        {
          "output_type": "stream",
          "name": "stdout",
          "text": [
            "Akıner 1 Kısa 2\n"
          ]
        }
      ]
    },
    {
      "cell_type": "code",
      "source": [
        "print(\"Akıner {} Kısa {}\".format(1,2))"
      ],
      "metadata": {
        "colab": {
          "base_uri": "https://localhost:8080/"
        },
        "id": "p2a99RR-Pu5_",
        "outputId": "e50130f2-031a-433d-86c8-90dbf989a113"
      },
      "execution_count": 5,
      "outputs": [
        {
          "output_type": "stream",
          "name": "stdout",
          "text": [
            "Akıner 1 Kısa 2\n"
          ]
        }
      ]
    },
    {
      "cell_type": "markdown",
      "source": [
        "Buradaki örnekte olduğu gibi farklı veri tiplerindeki karakterleri virgüllerle uğraşmadan birleştirebildik. {} işareti format metodunda atadığımız karakterleri sırasıyla işliyor. Farklı bir örnekten gidersek:"
      ],
      "metadata": {
        "id": "JWGR8NRUPzpv"
      }
    },
    {
      "cell_type": "code",
      "source": [
        "isim = input(\"İsminiz: \")\n",
        "print(\"Merhaba\", isim)"
      ],
      "metadata": {
        "colab": {
          "base_uri": "https://localhost:8080/"
        },
        "id": "ZiMeXhafQKP3",
        "outputId": "74814518-b6a7-439d-fdbd-3a78f900fec2"
      },
      "execution_count": 6,
      "outputs": [
        {
          "output_type": "stream",
          "name": "stdout",
          "text": [
            "İsminiz: Akıner\n",
            "Merhaba Akıner\n"
          ]
        }
      ]
    },
    {
      "cell_type": "markdown",
      "source": [
        "Normalde biz bir değişkeni kullanırken bu şekilde kullanırdık. ancak format metodu ile şu şekilde kullanabiliriz:"
      ],
      "metadata": {
        "id": "COITKtByQQjw"
      }
    },
    {
      "cell_type": "code",
      "source": [
        "isim = input(\"İsminiz: \")\n",
        "print(\"Merhaba {}\".format(isim))"
      ],
      "metadata": {
        "colab": {
          "base_uri": "https://localhost:8080/"
        },
        "id": "EjHxXz1lQWoI",
        "outputId": "ecb87a4a-6ab0-449c-f9cf-a822708b7f45"
      },
      "execution_count": 8,
      "outputs": [
        {
          "output_type": "stream",
          "name": "stdout",
          "text": [
            "İsminiz: Akıner\n",
            "Merhaba Akıner\n"
          ]
        }
      ]
    },
    {
      "cell_type": "markdown",
      "source": [
        "Format metodu farklı veri tiplerindeki karakterleri birleştirmenin yanı sıra kodumuzu daha okunaklı ve düzenlemeye daha elverişli hale getiriyor. Bunu çoklu inputlu bir uygulamada daha rahat anlayabiliriz."
      ],
      "metadata": {
        "id": "kWMA6yt7Qcjf"
      }
    },
    {
      "cell_type": "code",
      "source": [
        "isim = input(\"İsminiz: \")\n",
        "soyisim = input(\"Soyisminiz: \")\n",
        "yas = int(input(\"Yaşınız: \"))\n",
        "uni = input(\"Üniversiteniz: \")\n",
        "print(\"\"\"\n",
        "İsminiz: {}\n",
        "Soyisminiz: {}\n",
        "Yaşınız: {}\n",
        "Üniversiteniz: {}\n",
        "\"\"\".format(isim, soyisim, yas, uni))"
      ],
      "metadata": {
        "colab": {
          "base_uri": "https://localhost:8080/"
        },
        "id": "UoqZdhwjRNTW",
        "outputId": "b9e140ca-806c-4fe8-e397-c900097e7ff8"
      },
      "execution_count": 9,
      "outputs": [
        {
          "output_type": "stream",
          "name": "stdout",
          "text": [
            "İsminiz: Akıner\n",
            "Soyisminiz: Kısa\n",
            "Yaşınız: 19\n",
            "Üniversiteniz: Hacettepe\n",
            "\n",
            "İsminiz: Akıner\n",
            "Soyisminiz: Kısa\n",
            "Yaşınız: 19\n",
            "Üniversiteniz: Hacettepe\n",
            "\n"
          ]
        }
      ]
    },
    {
      "cell_type": "markdown",
      "source": [
        "Gördüğünüz gibi print alanında farklı veri tipleriyle rahatlıkla çalışabildik."
      ],
      "metadata": {
        "id": "hXPZV_V5R8U4"
      }
    },
    {
      "cell_type": "markdown",
      "source": [
        "f-string dediğimiz yapı ise format metoduna çok benzer şekilde çalışır. Format metodunu şu şekilde kullanıyoruz:"
      ],
      "metadata": {
        "id": "lJnL19eLSCOP"
      }
    },
    {
      "cell_type": "code",
      "source": [
        "isim = input(\"İsminiz: \")\n",
        "print(\"Merhaba {}\".format(isim))"
      ],
      "metadata": {
        "colab": {
          "base_uri": "https://localhost:8080/"
        },
        "id": "Vnq4c95DSSgn",
        "outputId": "2b059fa4-e07e-4d0f-e9c9-bbc726411cea"
      },
      "execution_count": 10,
      "outputs": [
        {
          "output_type": "stream",
          "name": "stdout",
          "text": [
            "İsminiz: Akıner\n",
            "Merhaba Akıner\n"
          ]
        }
      ]
    },
    {
      "cell_type": "markdown",
      "source": [
        "f-string'i ise şu ufak farklılıkla kullanıyoruz:"
      ],
      "metadata": {
        "id": "Ah3tftCoSWMg"
      }
    },
    {
      "cell_type": "code",
      "source": [
        "isim = input(\"İsminiz: \")\n",
        "print(f\"Merhaba {isim}\")"
      ],
      "metadata": {
        "colab": {
          "base_uri": "https://localhost:8080/"
        },
        "id": "eY4epEEXSZ9J",
        "outputId": "e0682807-864b-4709-9736-fa58a022d88e"
      },
      "execution_count": 11,
      "outputs": [
        {
          "output_type": "stream",
          "name": "stdout",
          "text": [
            "İsminiz: Akıner\n",
            "Merhaba Akıner\n"
          ]
        }
      ]
    },
    {
      "cell_type": "markdown",
      "source": [
        "print ile yazacağımız string ifadenin başına \"f\" koyduğumuzda bu ifade artık bir f-string ifadesine dönüşür. Format metodundan farklı olarak .format() şeklinde ayrı bir tanımlamaya gerek kalmadan direkt olarak stringin içerisinde virgül gibi ifadeler olmadan değişken ve farklı veri tipleri eklememize olanak sağlar. Farklı bir örnek verirsek:"
      ],
      "metadata": {
        "id": "XOSUOXb5Sha_"
      }
    },
    {
      "cell_type": "code",
      "source": [
        "isim = input(\"İsminiz: \")\n",
        "soyisim = input(\"Soyisminiz: \")\n",
        "print(\"Merhaba {} {}\".format(isim, soyisim))"
      ],
      "metadata": {
        "colab": {
          "base_uri": "https://localhost:8080/"
        },
        "id": "pttESIMKTFnO",
        "outputId": "fc3c8df6-cc81-4435-ff50-b8f11e7429cb"
      },
      "execution_count": 12,
      "outputs": [
        {
          "output_type": "stream",
          "name": "stdout",
          "text": [
            "İsminiz: Akıner\n",
            "Soyisminiz: Kısa\n",
            "Merhaba Akıner Kısa\n"
          ]
        }
      ]
    },
    {
      "cell_type": "code",
      "source": [
        "isim = input(\"İsminiz: \")\n",
        "soyisim = input(\"Soyisminiz:\")\n",
        "print(f\"Merhaba {isim} {soyisim}\")"
      ],
      "metadata": {
        "colab": {
          "base_uri": "https://localhost:8080/"
        },
        "id": "rfXujx5DTdcX",
        "outputId": "efe62eaa-e1c2-4b73-c14c-ce444447274c"
      },
      "execution_count": 13,
      "outputs": [
        {
          "output_type": "stream",
          "name": "stdout",
          "text": [
            "İsminiz: Akıner\n",
            "Soyisminiz:Kısa\n",
            "Merhaba Akıner Kısa\n"
          ]
        }
      ]
    },
    {
      "cell_type": "markdown",
      "source": [
        "İki kodda tamamen aynı işlemi yapıyor. Ancak f-string ile yazdığımız kodun okunabilirliği daha fazla oldu. format metodu veya f-string kullanımının kolaylığı kullanıldığı yerlere göre değişen şeylerdir. İkisinin birbirine karşı üstünlüğünden çok kullanım farklılıkları vardır."
      ],
      "metadata": {
        "id": "cWiGw6aZTmJg"
      }
    },
    {
      "cell_type": "markdown",
      "source": [
        "Ayrıca f-string ifadelerin içerisinde python kodları çalıştırabiliriz."
      ],
      "metadata": {
        "id": "UK00cLE_T3bg"
      }
    },
    {
      "cell_type": "code",
      "source": [
        "sayi1 = 5\n",
        "sayi2 = 3\n",
        "print(f\"Sonucunuz: {sayi1 + sayi2}\")"
      ],
      "metadata": {
        "colab": {
          "base_uri": "https://localhost:8080/"
        },
        "id": "4C_P-AtHT6uY",
        "outputId": "15328e70-b203-4d46-e887-767fdb43aede"
      },
      "execution_count": 14,
      "outputs": [
        {
          "output_type": "stream",
          "name": "stdout",
          "text": [
            "Sonucunuz: 8\n"
          ]
        }
      ]
    },
    {
      "cell_type": "markdown",
      "source": [
        "Buradaki gibi basit örneklerin yanı sıra şöyle kodlarda çalıştırabiliriz:"
      ],
      "metadata": {
        "id": "3hkKspL6UFp4"
      }
    },
    {
      "cell_type": "code",
      "source": [
        "print(f'Sonucunuz: { int(input(\"Birinci sayıyı girin: \")) + int(input(\"İkinci sayıyı girin: \")) }')"
      ],
      "metadata": {
        "colab": {
          "base_uri": "https://localhost:8080/"
        },
        "id": "AvlEcRL8UITI",
        "outputId": "5a19bd92-03ed-4c0f-9a5e-f716d00e2400"
      },
      "execution_count": 16,
      "outputs": [
        {
          "output_type": "stream",
          "name": "stdout",
          "text": [
            "Birinci sayıyı girin: 5\n",
            "İkinci sayıyı girin: 3\n",
            "Sonucunuz: 8\n"
          ]
        }
      ]
    }
  ]
}
