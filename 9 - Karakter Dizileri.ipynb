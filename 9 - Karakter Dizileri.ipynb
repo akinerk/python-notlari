{
  "nbformat": 4,
  "nbformat_minor": 0,
  "metadata": {
    "colab": {
      "provenance": [],
      "authorship_tag": "ABX9TyNC3vGinauq96uOD2C2+oii",
      "include_colab_link": true
    },
    "kernelspec": {
      "name": "python3",
      "display_name": "Python 3"
    },
    "language_info": {
      "name": "python"
    }
  },
  "cells": [
    {
      "cell_type": "markdown",
      "metadata": {
        "id": "view-in-github",
        "colab_type": "text"
      },
      "source": [
        "<a href=\"https://colab.research.google.com/github/akinerk/python-notlari/blob/main/9_Karakter_Dizileri.ipynb\" target=\"_parent\"><img src=\"https://colab.research.google.com/assets/colab-badge.svg\" alt=\"Open In Colab\"/></a>"
      ]
    },
    {
      "cell_type": "markdown",
      "source": [
        "Pythonda string olarak bahsettiğimiz terimler aslında birer karakter dizileridir. Bir nesneyi type() fonksiyonu ile sorguladığımızda eğer <class ‘str’> çıktısı alıyorsak bu nesne bir karakter dizisidir."
      ],
      "metadata": {
        "id": "CnV4iJIKYDlJ"
      }
    },
    {
      "cell_type": "code",
      "execution_count": 2,
      "metadata": {
        "colab": {
          "base_uri": "https://localhost:8080/"
        },
        "id": "awkqtoglX6ca",
        "outputId": "816374f7-1761-430e-da66-e8cf2b582400"
      },
      "outputs": [
        {
          "output_type": "execute_result",
          "data": {
            "text/plain": [
              "str"
            ]
          },
          "metadata": {},
          "execution_count": 2
        }
      ],
      "source": [
        "bu_bir_karakter_dizisi = \"karakterdizisi\"\n",
        "type(bu_bir_karakter_dizisi)"
      ]
    },
    {
      "cell_type": "code",
      "source": [
        "bu_bir_karakter_dizisi_degil = 123\n",
        "type(bu_bir_karakter_dizisi_degil)"
      ],
      "metadata": {
        "colab": {
          "base_uri": "https://localhost:8080/"
        },
        "id": "nndPW5-pYq_B",
        "outputId": "025d4179-6bb9-4803-f619-3dc8051a6f1e"
      },
      "execution_count": 3,
      "outputs": [
        {
          "output_type": "execute_result",
          "data": {
            "text/plain": [
              "int"
            ]
          },
          "metadata": {},
          "execution_count": 3
        }
      ]
    },
    {
      "cell_type": "markdown",
      "source": [
        "For döngüsünde sıklıkla karakter dizilerini kullanırız. Bir örnek verecek olursak:"
      ],
      "metadata": {
        "id": "oyRWltO6YsPY"
      }
    },
    {
      "cell_type": "code",
      "source": [
        "sayilar = \"123456789\" # Öncelikle nesnemizi tanımlıyoruz.\n",
        "\n",
        "for sayi in sayilar: # Sonrasında nesne içindeki karakter dizisindeki karakterleri çağırıyoruz.\n",
        "    print(int(sayi) * 2)"
      ],
      "metadata": {
        "colab": {
          "base_uri": "https://localhost:8080/"
        },
        "id": "nER1CDqtY7wq",
        "outputId": "e43dabcd-c4a6-4ae4-b21e-acf38541ff05"
      },
      "execution_count": 6,
      "outputs": [
        {
          "output_type": "stream",
          "name": "stdout",
          "text": [
            "2\n",
            "4\n",
            "6\n",
            "8\n",
            "10\n",
            "12\n",
            "14\n",
            "16\n",
            "18\n"
          ]
        }
      ]
    },
    {
      "cell_type": "markdown",
      "source": [
        "Karakter dizilerinde dikkat etmemiz gereken önemli bir unsur veri tipleridir. Karakter dizileri string olarak ön tanımlı olduğu için önceki örnekteki gibi matematiksel işlemlerde veri dönüşümü yapmamız gerekir. Eğer veri dönüşümü yapmadan şu şekilde bir kod kullansaydık:"
      ],
      "metadata": {
        "id": "0CrWqs81ZBS5"
      }
    },
    {
      "cell_type": "code",
      "source": [
        "nesne = \"123456789\"\n",
        "\n",
        "for sayi in sayilar:\n",
        "    print(sayi * 2)"
      ],
      "metadata": {
        "colab": {
          "base_uri": "https://localhost:8080/"
        },
        "id": "zdW7VVq2aFJE",
        "outputId": "318e05a7-715b-4bff-d144-84e76d1ed26a"
      },
      "execution_count": 7,
      "outputs": [
        {
          "output_type": "stream",
          "name": "stdout",
          "text": [
            "11\n",
            "22\n",
            "33\n",
            "44\n",
            "55\n",
            "66\n",
            "77\n",
            "88\n",
            "99\n"
          ]
        }
      ]
    },
    {
      "cell_type": "markdown",
      "source": [
        "Şeklinde bir çıktı alırdık. Burada veri tipi string olarak ön tanımlı olduğundan dolayı python çarpma işlemi değil tekrarlama işlemi yapmıştır."
      ],
      "metadata": {
        "id": "cEZ1q68yaI5S"
      }
    },
    {
      "cell_type": "markdown",
      "source": [
        "Pythonda tüm karakter dizisine döngü şeklinde işlem yapabildiğimiz gibi karakter dizileri içinde tek tekte işlem yapabiliriz. Pythonda karakter dizileri içindeki karakterler 0'dan başlayarak sıralanır. Örnek olarak \"akiner\" dizisinde a 0. karakter, r 5. karakterdir. Bunu bir örnek üzerinden gösterecek olursak:"
      ],
      "metadata": {
        "id": "UvT9sMd6abdV"
      }
    },
    {
      "cell_type": "code",
      "source": [
        "dizi = \"akiner\"\n",
        "dizi[0]"
      ],
      "metadata": {
        "colab": {
          "base_uri": "https://localhost:8080/",
          "height": 36
        },
        "id": "LkK_Vh68avei",
        "outputId": "63838202-c4ed-47b0-85ba-c1d1bfb0840c"
      },
      "execution_count": 11,
      "outputs": [
        {
          "output_type": "execute_result",
          "data": {
            "text/plain": [
              "'a'"
            ],
            "application/vnd.google.colaboratory.intrinsic+json": {
              "type": "string"
            }
          },
          "metadata": {},
          "execution_count": 11
        }
      ]
    },
    {
      "cell_type": "code",
      "source": [
        "dizi = \"akiner\"\n",
        "dizi[5]"
      ],
      "metadata": {
        "colab": {
          "base_uri": "https://localhost:8080/",
          "height": 36
        },
        "id": "EkgN9SX4b0dd",
        "outputId": "7dea986e-75b1-491d-c5bc-5f04edccd229"
      },
      "execution_count": 12,
      "outputs": [
        {
          "output_type": "execute_result",
          "data": {
            "text/plain": [
              "'r'"
            ],
            "application/vnd.google.colaboratory.intrinsic+json": {
              "type": "string"
            }
          },
          "metadata": {},
          "execution_count": 12
        }
      ]
    },
    {
      "cell_type": "markdown",
      "source": [
        "Bu şekilde karakter dizilerindeki karakterlere tek tek erişebiliriz. Karakter dizilerindeki karakterlere eriştikten sonra farklı işlemlerde yapabiliriz. Mesela olarak bir karakter dizisini parçalara ayırabiliriz. Örnek olarak:"
      ],
      "metadata": {
        "id": "fHcc6Eejb1Nx"
      }
    },
    {
      "cell_type": "code",
      "source": [
        "site = \"www.google.com\"\n",
        "site[4:10]"
      ],
      "metadata": {
        "colab": {
          "base_uri": "https://localhost:8080/",
          "height": 36
        },
        "id": "c-DXld4PcJzq",
        "outputId": "b38f430e-2923-44c1-805b-a063c88a2578"
      },
      "execution_count": 14,
      "outputs": [
        {
          "output_type": "execute_result",
          "data": {
            "text/plain": [
              "'google'"
            ],
            "application/vnd.google.colaboratory.intrinsic+json": {
              "type": "string"
            }
          },
          "metadata": {},
          "execution_count": 14
        }
      ]
    },
    {
      "cell_type": "markdown",
      "source": [
        "Bu örnekte karakter dizisinin 4. karakterinden başlayıp 10. karakterine kadar olan kısmı ayırdık. Karakterler dizileri 0'dan başladığı için 4. karakteri \"g\" 10. karakter ise \".\" oldu. Python çıktıyı verirken 4. karakteri dahil etti ancak 10. karakteri çıktıya dahil etmedi."
      ],
      "metadata": {
        "id": "SPceL6KHdVth"
      }
    },
    {
      "cell_type": "markdown",
      "source": [
        "Karakter dizileri içindeki karakterlere silme işlemide uygulayabiliriz."
      ],
      "metadata": {
        "id": "vS8OmS2gdwyL"
      }
    },
    {
      "cell_type": "code",
      "source": [
        "site = \"www.google.com\"\n",
        "site[4:-4]"
      ],
      "metadata": {
        "colab": {
          "base_uri": "https://localhost:8080/",
          "height": 36
        },
        "id": "dw6EO6PGd2ya",
        "outputId": "1995a37c-4bbd-4c68-8e40-11e54a92ac2d"
      },
      "execution_count": 15,
      "outputs": [
        {
          "output_type": "execute_result",
          "data": {
            "text/plain": [
              "'google'"
            ],
            "application/vnd.google.colaboratory.intrinsic+json": {
              "type": "string"
            }
          },
          "metadata": {},
          "execution_count": 15
        }
      ]
    },
    {
      "cell_type": "markdown",
      "source": [
        "Burada [4:-4] ifadesi ile ilk 4 ve son 4 karaktere kadarlık kısmı sildik."
      ],
      "metadata": {
        "id": "jDZjksCXd7qJ"
      }
    },
    {
      "cell_type": "markdown",
      "source": [
        "Eğer biz bir karakter dizisinde ilk karakterden başlayarak bir işlem yapacaksak [0:4] benzeri bir kullanım yaparız. Ancak pythonda ilk karakteri yani 0'ı kullanmak gibi bir zorunluluğumuz yoktur. Yani [0:4] ile [:4] aynı şeydir. Bunu bir örnek üzerinden gösterecek olursak:"
      ],
      "metadata": {
        "id": "QyiiZ3qie-dp"
      }
    },
    {
      "cell_type": "code",
      "source": [
        "dizi = \"akiner\"\n",
        "dizi[0:4]"
      ],
      "metadata": {
        "colab": {
          "base_uri": "https://localhost:8080/",
          "height": 36
        },
        "id": "rTJIvH-aezHZ",
        "outputId": "33ab24f4-ad20-4801-82fb-600579897f6f"
      },
      "execution_count": 16,
      "outputs": [
        {
          "output_type": "execute_result",
          "data": {
            "text/plain": [
              "'akin'"
            ],
            "application/vnd.google.colaboratory.intrinsic+json": {
              "type": "string"
            }
          },
          "metadata": {},
          "execution_count": 16
        }
      ]
    },
    {
      "cell_type": "code",
      "source": [
        "dizi = \"akiner\"\n",
        "dizi[:4]"
      ],
      "metadata": {
        "colab": {
          "base_uri": "https://localhost:8080/",
          "height": 36
        },
        "id": "YAinLUAefpiB",
        "outputId": "59df6a7c-be9a-46d6-c856-3ba2b340c8f7"
      },
      "execution_count": 17,
      "outputs": [
        {
          "output_type": "execute_result",
          "data": {
            "text/plain": [
              "'akin'"
            ],
            "application/vnd.google.colaboratory.intrinsic+json": {
              "type": "string"
            }
          },
          "metadata": {},
          "execution_count": 17
        }
      ]
    },
    {
      "cell_type": "markdown",
      "source": [
        "Aynı şekilde eğer işlem yapacağımız karakter son karakter ise yine bu karakteri kullanma gibi zorunluluğumuz yoktur. Yani [4:6] ile [4:] aynı anlama gelir."
      ],
      "metadata": {
        "id": "dUuGDwWGft8I"
      }
    },
    {
      "cell_type": "code",
      "source": [
        "dizi = \"akiner\"\n",
        "dizi[4:6]"
      ],
      "metadata": {
        "colab": {
          "base_uri": "https://localhost:8080/",
          "height": 36
        },
        "id": "dM5U54awf7Nh",
        "outputId": "dcac9d41-1964-4a42-e835-bdc882ccc2a2"
      },
      "execution_count": 19,
      "outputs": [
        {
          "output_type": "execute_result",
          "data": {
            "text/plain": [
              "'er'"
            ],
            "application/vnd.google.colaboratory.intrinsic+json": {
              "type": "string"
            }
          },
          "metadata": {},
          "execution_count": 19
        }
      ]
    },
    {
      "cell_type": "code",
      "source": [
        "dizi = \"akiner\"\n",
        "dizi[4:]"
      ],
      "metadata": {
        "colab": {
          "base_uri": "https://localhost:8080/",
          "height": 36
        },
        "id": "xU9cIINegA-p",
        "outputId": "0d557aaa-f1a3-466d-cf9b-27569bc80742"
      },
      "execution_count": 20,
      "outputs": [
        {
          "output_type": "execute_result",
          "data": {
            "text/plain": [
              "'er'"
            ],
            "application/vnd.google.colaboratory.intrinsic+json": {
              "type": "string"
            }
          },
          "metadata": {},
          "execution_count": 20
        }
      ]
    },
    {
      "cell_type": "markdown",
      "source": [
        "Karakter dizilerindeki işlemleri biraz anladıysak şimdi karakter dizilerindek kullanılan diğer özelliklere değinelim. Örneğin bir karakter dizisini ters çevirmenin iki yaygın kullanımı vardır."
      ],
      "metadata": {
        "id": "2LgwxyqPeh-y"
      }
    },
    {
      "cell_type": "code",
      "source": [
        "dizi = \"akiner kisa\"\n",
        "dizi[::-1]"
      ],
      "metadata": {
        "colab": {
          "base_uri": "https://localhost:8080/",
          "height": 36
        },
        "id": "4_0xU4HCgFaQ",
        "outputId": "3b258405-fa2d-46f7-b384-ae9f0d365242"
      },
      "execution_count": 22,
      "outputs": [
        {
          "output_type": "execute_result",
          "data": {
            "text/plain": [
              "'asik renika'"
            ],
            "application/vnd.google.colaboratory.intrinsic+json": {
              "type": "string"
            }
          },
          "metadata": {},
          "execution_count": 22
        }
      ]
    },
    {
      "cell_type": "markdown",
      "source": [
        "Bu şekilde tüm karakter dizisini çevirebildiğimiz gibi istersek karakter dizisindeki belirli karakterleride çevirebiliriz. Mesela sadece akiner ismini çevirelim."
      ],
      "metadata": {
        "id": "nd00tZclgQox"
      }
    },
    {
      "cell_type": "code",
      "source": [
        "dizi = \"akiner kisa\"\n",
        "dizi[5::-1]"
      ],
      "metadata": {
        "colab": {
          "base_uri": "https://localhost:8080/",
          "height": 36
        },
        "id": "CTqWE6oigWJA",
        "outputId": "a5410cfd-9d77-49bf-ac0d-21b93a1f4f96"
      },
      "execution_count": 36,
      "outputs": [
        {
          "output_type": "execute_result",
          "data": {
            "text/plain": [
              "'renika'"
            ],
            "application/vnd.google.colaboratory.intrinsic+json": {
              "type": "string"
            }
          },
          "metadata": {},
          "execution_count": 36
        }
      ]
    },
    {
      "cell_type": "markdown",
      "source": [
        "Burada aslında dizileri 3 parametreye ayırabildiğimizi görüyoruz."
      ],
      "metadata": {
        "id": "Klqo1HAJhKOc"
      }
    },
    {
      "cell_type": "code",
      "source": [
        "dizi[ilk_karakter:son_karakter:atlama_sayısı]\n"
      ],
      "metadata": {
        "id": "rhtAW01hhOQg"
      },
      "execution_count": null,
      "outputs": []
    },
    {
      "cell_type": "markdown",
      "source": [
        "Buradaki parametreleri bir örnek üzerinden gösterecek olursak:"
      ],
      "metadata": {
        "id": "Hxm639WBhPsg"
      }
    },
    {
      "cell_type": "code",
      "source": [
        "dizi = \"akiner\"\n",
        "dizi[0:6:1]"
      ],
      "metadata": {
        "colab": {
          "base_uri": "https://localhost:8080/",
          "height": 36
        },
        "id": "WHybmaPLhWSa",
        "outputId": "c4edd337-b097-4cd0-ea0b-661515b05653"
      },
      "execution_count": 40,
      "outputs": [
        {
          "output_type": "execute_result",
          "data": {
            "text/plain": [
              "'akiner'"
            ],
            "application/vnd.google.colaboratory.intrinsic+json": {
              "type": "string"
            }
          },
          "metadata": {},
          "execution_count": 40
        }
      ]
    },
    {
      "cell_type": "code",
      "source": [
        "dizi = \"akiner\"\n",
        "dizi[0:6:2]"
      ],
      "metadata": {
        "colab": {
          "base_uri": "https://localhost:8080/",
          "height": 36
        },
        "id": "lKRW9cw6he7Z",
        "outputId": "ea1d7294-aadb-4016-a1e7-36e9d64971ad"
      },
      "execution_count": 41,
      "outputs": [
        {
          "output_type": "execute_result",
          "data": {
            "text/plain": [
              "'aie'"
            ],
            "application/vnd.google.colaboratory.intrinsic+json": {
              "type": "string"
            }
          },
          "metadata": {},
          "execution_count": 41
        }
      ]
    },
    {
      "cell_type": "code",
      "source": [
        "dizi = \"akiner\"\n",
        "dizi[1:6:2]"
      ],
      "metadata": {
        "colab": {
          "base_uri": "https://localhost:8080/",
          "height": 36
        },
        "id": "xDD3ioabhiC5",
        "outputId": "9d458460-b10c-44fc-89e4-bdfc21281292"
      },
      "execution_count": 43,
      "outputs": [
        {
          "output_type": "execute_result",
          "data": {
            "text/plain": [
              "'knr'"
            ],
            "application/vnd.google.colaboratory.intrinsic+json": {
              "type": "string"
            }
          },
          "metadata": {},
          "execution_count": 43
        }
      ]
    },
    {
      "cell_type": "markdown",
      "source": [
        "Diziyi ters çevirirken kullandığımız ilk örnektede aslında :: ile tüm diziyi alıyoruz sonrasında -1'i atlama sayısı olarak belirleyip dizinin tersten yazılmasını sağlıyoruz."
      ],
      "metadata": {
        "id": "B0VGecwthp-3"
      }
    },
    {
      "cell_type": "code",
      "source": [
        "dizi = \"tersten\"\n",
        "dizi[::-1]"
      ],
      "metadata": {
        "colab": {
          "base_uri": "https://localhost:8080/",
          "height": 36
        },
        "id": "WRM1tloTiYcJ",
        "outputId": "262be373-3bfb-4cc3-90dd-8e6258cc522f"
      },
      "execution_count": 46,
      "outputs": [
        {
          "output_type": "execute_result",
          "data": {
            "text/plain": [
              "'netsret'"
            ],
            "application/vnd.google.colaboratory.intrinsic+json": {
              "type": "string"
            }
          },
          "metadata": {},
          "execution_count": 46
        }
      ]
    },
    {
      "cell_type": "code",
      "source": [
        "dizi = \"ey edip adanada pide ye\"\n",
        "dizi[::-1]"
      ],
      "metadata": {
        "colab": {
          "base_uri": "https://localhost:8080/",
          "height": 36
        },
        "id": "Bb7h8r2hh72g",
        "outputId": "69369c51-42d7-4ad7-e70c-00024122f86c"
      },
      "execution_count": 45,
      "outputs": [
        {
          "output_type": "execute_result",
          "data": {
            "text/plain": [
              "'ey edip adanada pide ye'"
            ],
            "application/vnd.google.colaboratory.intrinsic+json": {
              "type": "string"
            }
          },
          "metadata": {},
          "execution_count": 45
        }
      ]
    },
    {
      "cell_type": "markdown",
      "source": [
        "Karakter dizilerini ters çevirirken kullanabileceğimiz bir diğer fonksiyon reversed() fonksiyonudur. Bu fonksiyonu tek başına kullanamayız. Print gibi bir fonksiyon içinde kullanmamız gerekir."
      ],
      "metadata": {
        "id": "xBl8pHVbic3Q"
      }
    },
    {
      "cell_type": "code",
      "source": [
        "reversed(\"akiner\")"
      ],
      "metadata": {
        "colab": {
          "base_uri": "https://localhost:8080/"
        },
        "id": "Ifa0sZujirAB",
        "outputId": "66d42655-cdc0-4009-8dd7-80e1255d1b41"
      },
      "execution_count": 47,
      "outputs": [
        {
          "output_type": "execute_result",
          "data": {
            "text/plain": [
              "<reversed at 0x7fa1dee8d6c0>"
            ]
          },
          "metadata": {},
          "execution_count": 47
        }
      ]
    },
    {
      "cell_type": "code",
      "source": [
        "print(*reversed(\"akiner\"), sep=\"\") # sep kullanıp boş küme atama sebebimiz reversed fonksiyonunun normal kullanımda karakterleri ters çevirirken arasına boşluk koymasıdır."
      ],
      "metadata": {
        "colab": {
          "base_uri": "https://localhost:8080/"
        },
        "id": "B9v1sJEDit-R",
        "outputId": "f9b37956-01d4-42b1-dd8e-bd6f8184f360"
      },
      "execution_count": 50,
      "outputs": [
        {
          "output_type": "stream",
          "name": "stdout",
          "text": [
            "renika\n"
          ]
        }
      ]
    },
    {
      "cell_type": "markdown",
      "source": [],
      "metadata": {
        "id": "ZtovTuhjmRPq"
      }
    }
  ]
}
