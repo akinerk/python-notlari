{
  "nbformat": 4,
  "nbformat_minor": 0,
  "metadata": {
    "colab": {
      "provenance": [],
      "authorship_tag": "ABX9TyPCjyBiTfkrkjfBNMzbJbW6",
      "include_colab_link": true
    },
    "kernelspec": {
      "name": "python3",
      "display_name": "Python 3"
    },
    "language_info": {
      "name": "python"
    }
  },
  "cells": [
    {
      "cell_type": "markdown",
      "metadata": {
        "id": "view-in-github",
        "colab_type": "text"
      },
      "source": [
        "<a href=\"https://colab.research.google.com/github/akinerk/python-notlari/blob/main/6_D%C3%B6nguler.ipynb\" target=\"_parent\"><img src=\"https://colab.research.google.com/assets/colab-badge.svg\" alt=\"Open In Colab\"/></a>"
      ]
    },
    {
      "cell_type": "markdown",
      "source": [
        "Python'da aksi bir koşul olmadıkça sürekli tekrarlanan ifadelere biz döngüler ismini veririz. Örnek bir döngü oluşturalım"
      ],
      "metadata": {
        "id": "lw8nkxh0PbLL"
      }
    },
    {
      "cell_type": "code",
      "execution_count": 1,
      "metadata": {
        "colab": {
          "base_uri": "https://localhost:8080/"
        },
        "id": "ToKZ3laXPN7N",
        "outputId": "955237de-fff1-4229-b601-49d79c7e304e"
      },
      "outputs": [
        {
          "output_type": "stream",
          "name": "stdout",
          "text": [
            "2\n",
            "3\n",
            "4\n",
            "5\n",
            "6\n",
            "7\n",
            "8\n",
            "9\n",
            "10\n"
          ]
        }
      ],
      "source": [
        "sayi = 1\n",
        "while sayi < 10:  # while Türkçede süresince/olduğu sürece gibi bir anlama gelir. Biz burada sayi değişkeni 10'dan küçük olduğu sürece şeklinde bir ifade oluşturduk.\n",
        "  sayi += 1  # burada += ifadesiyle sayi değişkenine döngü içerisinde sürekli +1 ekleme yaparak her seferinde önceki değişkeni bir arttırdık.\n",
        "  print(sayi)  # burada ise ekleme yaptığımız her değişkeni döngü içerisinde yazdırdık.\n"
      ]
    },
    {
      "cell_type": "markdown",
      "source": [
        "Bu kod toplamda 9 kez çıktı verip döngüyü durduracaktır çünkü biz 10'dan küçük olduğu sürece şeklinde bir döngü oluşturmuştuk.\n"
      ],
      "metadata": {
        "id": "fwdAa6KVPkmk"
      }
    },
    {
      "cell_type": "markdown",
      "source": [
        "Döngüleri nerede kullanabileceğimize dair bir örnek verelim:"
      ],
      "metadata": {
        "id": "1JcHYwS4Pwgr"
      }
    },
    {
      "cell_type": "code",
      "source": [
        "'''\n",
        "kullaniciadi = input(\"Kullanıcı adınızı giriniz: \")\n",
        "sifre = input(\"Şifrenizi giriniz: \")\n",
        "if kullaniciadi == \"akiner\" and sifre == \"akiner123\":  # and'i aynı anda iki değeri kontrol etmek için kullanıyoruz.\n",
        "  print(\"Sisteme hoşgeldin\", kullaniciadi)\n",
        "else:\n",
        "  print(\"Hatalı kullanıcı adı veya şifre\")\n",
        "'''"
      ],
      "metadata": {
        "id": "G53aF2nQPy9x"
      },
      "execution_count": null,
      "outputs": []
    },
    {
      "cell_type": "markdown",
      "source": [
        "<p>Koşullu ifadeler bölümünde böyle bir kod kullanmıştık.</p>\n",
        "<p>Bu kod bir kez çalışıp bize kullanıcı adı ve şifre soruyor. Eğer doğru bilirsek sorun yok, ancak yanlış bilirsek programı durduruyor.</p>\n",
        "<p>İşte döngüleri tam olarak burada kullanıyoruz. Biz burada bir döngü kullansaydık:</p>"
      ],
      "metadata": {
        "id": "av7YwAhbP3FL"
      }
    },
    {
      "cell_type": "code",
      "source": [
        "while True:  # Burada boolean veri tipi kısmında bahsettiğimiz True değerini kullanarak döngünün sürekli aktif olmasını sağlıyoruz.\n",
        "  kullaniciadi = input(\"Kullanıcı adınızı giriniz: \")\n",
        "  sifre = input(\"Şifrenizi giriniz: \")\n",
        "  if kullaniciadi == \"akiner\" and sifre == \"akiner123\":  # and'i aynı anda iki değeri kontrol etmek için kullanıyoruz.\n",
        "      print(\"Sisteme hoşgeldin\", kullaniciadi)\n",
        "      break  # break ifadesi döngüyü sonlandırır. Bu durumda while döngüsü kapanarak programın devam etmesini engelliyoruz.\n",
        "  else:\n",
        "      print(\"Hatalı kullanıcı adı veya şifre\")  # Burada ise kişi doğru kullanıcı adı ve şifreyi girene kadar programı devam ettiriyoruz.\n",
        ","
      ],
      "metadata": {
        "colab": {
          "base_uri": "https://localhost:8080/"
        },
        "id": "cTwJTv1pP--y",
        "outputId": "fffcafed-05a9-4da6-ecdd-4972420b1827"
      },
      "execution_count": 2,
      "outputs": [
        {
          "output_type": "stream",
          "name": "stdout",
          "text": [
            "Kullanıcı adınızı giriniz: akiner\n",
            "Şifrenizi giriniz: akiner999\n",
            "Hatalı kullanıcı adı veya şifre\n",
            "Kullanıcı adınızı giriniz: akiner\n",
            "Şifrenizi giriniz: akiner123\n",
            "Sisteme hoşgeldin akiner\n"
          ]
        }
      ]
    },
    {
      "cell_type": "markdown",
      "source": [
        "<p>Python'da kullandığımız bir diğer döngü ise for döngüsüdür. Bu döngü while'dan daha kapsamlıdır ve genelde daha çok kullanılır.</p>\n",
        "<p>Ancak her iki döngünün de kullanıldığı farklı alanlar vardır. Bu nedenle for, while'ın yerine her yerde geçebilir diyemeyiz.</p>\n",
        "<p>For döngüsünü pratik bir örnekten anlatalım:</p>"
      ],
      "metadata": {
        "id": "ZqVN6FmXQEt8"
      }
    },
    {
      "cell_type": "code",
      "source": [
        "sayilar = \"0123456\"  # Öncelikle sayılar adında bir değişken oluşturuyoruz.\n",
        "for sayi in sayilar:  # Burada ise Python'a \"sayılar içindeki her bir öğeyi sayı olarak adlandır\" komutunu veriyoruz\n",
        "  print(int(sayi) + 1)  # Burada ise her bir sayıya +1 ekleyerek sonraki sayıyı ekrana yazdırıyoruz.\n"
      ],
      "metadata": {
        "colab": {
          "base_uri": "https://localhost:8080/"
        },
        "id": "TJ1BW0SJQN2T",
        "outputId": "89c3e0cb-b10e-4da0-9137-9526bc4da0ef"
      },
      "execution_count": 3,
      "outputs": [
        {
          "output_type": "stream",
          "name": "stdout",
          "text": [
            "1\n",
            "2\n",
            "3\n",
            "4\n",
            "5\n",
            "6\n",
            "7\n"
          ]
        }
      ]
    },
    {
      "cell_type": "markdown",
      "source": [
        "<p>For döngüsünde yaygın olarak kullanılan bir fonksiyon ise range() fonksiyonudur.</p>\n",
        "<p>Range bir aralık tanımlamak için kullanılır. Örnek olarak range(1,10) 1'den 10'a kadar olan sayıları temsil eder.</p>\n"
      ],
      "metadata": {
        "id": "r_fQ20ZyQR2K"
      }
    },
    {
      "cell_type": "code",
      "source": [
        "for sayi in range(1, 10):  # Burada Python'a \"1 ile 10 aralığındaki her öğeyi sayı olarak adlandır\" komutunu veriyoruz.\n",
        "  print(sayi)  # Burada ise sayıları range ile belirttiğimiz aralığın sonuna gelene kadar yazdırıyoruz."
      ],
      "metadata": {
        "colab": {
          "base_uri": "https://localhost:8080/"
        },
        "id": "g8f8J7x2QXSi",
        "outputId": "a939abe2-a8e5-482e-ffa7-12bc55102b5e"
      },
      "execution_count": 4,
      "outputs": [
        {
          "output_type": "stream",
          "name": "stdout",
          "text": [
            "1\n",
            "2\n",
            "3\n",
            "4\n",
            "5\n",
            "6\n",
            "7\n",
            "8\n",
            "9\n"
          ]
        }
      ]
    }
  ]
}
