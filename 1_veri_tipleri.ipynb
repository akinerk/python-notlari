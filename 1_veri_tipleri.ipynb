{
  "nbformat": 4,
  "nbformat_minor": 0,
  "metadata": {
    "colab": {
      "provenance": [],
      "authorship_tag": "ABX9TyM5BIR0F+if9unfwpnAm3yQ"
    },
    "kernelspec": {
      "name": "python3",
      "display_name": "Python 3"
    },
    "language_info": {
      "name": "python"
    }
  },
  "cells": [
    {
      "cell_type": "code",
      "execution_count": null,
      "metadata": {
        "id": "X4WHDebnc_da"
      },
      "outputs": [],
      "source": [
        "yazilar = str(\"Bu bir yazıdır\")  # String, metinleri tanımlamak için kullanılan veri tipidir.\n"
      ]
    },
    {
      "cell_type": "markdown",
      "source": [
        "String ifadeler çift tırnak veya tek tırnak işareti içerisinde yazılmalıdır.\n",
        "Eğer dümdüz yazılırsa, Python bunu değişken olarak algılar ve hata verir."
      ],
      "metadata": {
        "id": "xrpdnKNBdIeY"
      }
    },
    {
      "cell_type": "code",
      "source": [
        "sayilar = int(1)  # Integer sayıları tanımlamak için kullanılır.\n",
        "ondaliklisayilar = float(0.1)  # Float, ondalıklı sayıları tanımlamak için kullanılır."
      ],
      "metadata": {
        "id": "vi2vBS1IdP1_"
      },
      "execution_count": null,
      "outputs": []
    },
    {
      "cell_type": "code",
      "source": [
        "dogru = True  # Boolean veri tipi, bir değerin doğru (True) veya yanlış (False) olduğunu belirtmek için kullanılır.\n",
        "yanlis = False  # Boolean tanımlanırken küçük değil, büyük harfle başlanılır."
      ],
      "metadata": {
        "id": "OiPyD1HSdVyJ"
      },
      "execution_count": null,
      "outputs": []
    },
    {
      "cell_type": "markdown",
      "source": [
        " True yerine true olarak başlanılırsa, Python bunu değişken olarak algılar."
      ],
      "metadata": {
        "id": "rrrVCoYwdWdB"
      }
    }
  ]
}